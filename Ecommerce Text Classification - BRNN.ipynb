{
 "cells": [
  {
   "cell_type": "markdown",
   "id": "2893bacb",
   "metadata": {},
   "source": [
    "### Ecommerce Text Classification"
   ]
  },
  {
   "cell_type": "markdown",
   "id": "cab905c1",
   "metadata": {},
   "source": [
    "***"
   ]
  },
  {
   "cell_type": "markdown",
   "id": "cea8d0e2",
   "metadata": {},
   "source": [
    "This is the classification based E-commerce text dataset for 4 categories - \"Electronics\", \"Household\", \"Books\" and \"Clothing & Accessories\", which almost cover 80% of any E-commerce website.\n",
    "\n",
    "The dataset is in \".csv\" format with two columns - the first column is the class name and the second one is the datapoint of that class. The data point is the product and description from the e-commerce website."
   ]
  },
  {
   "cell_type": "code",
   "execution_count": 1,
   "id": "b6b2ea6c",
   "metadata": {},
   "outputs": [],
   "source": [
    "import numpy as np\n",
    "import pandas as pd\n",
    "import matplotlib.pyplot as plt\n",
    "import seaborn as sns\n",
    "import re\n",
    "from nltk.stem import WordNetLemmatizer\n",
    "from tensorflow.keras.preprocessing.text import Tokenizer\n",
    "from tensorflow.keras.preprocessing.sequence import pad_sequences\n",
    "from sklearn.model_selection import train_test_split\n",
    "from tensorflow.keras import Sequential, layers\n",
    "from sklearn.metrics import accuracy_score, confusion_matrix, classification_report"
   ]
  },
  {
   "cell_type": "markdown",
   "id": "13947023",
   "metadata": {},
   "source": [
    "### Read 'ecommerceDataset.csv'"
   ]
  },
  {
   "cell_type": "code",
   "execution_count": 2,
   "id": "0be115c8",
   "metadata": {},
   "outputs": [],
   "source": [
    "df = pd.read_csv('ecommerceDataset.csv', header = None)"
   ]
  },
  {
   "cell_type": "code",
   "execution_count": 3,
   "id": "95a0aed2",
   "metadata": {},
   "outputs": [],
   "source": [
    "df = df.sample(frac = 1)"
   ]
  },
  {
   "cell_type": "code",
   "execution_count": 4,
   "id": "bb7db9c8",
   "metadata": {},
   "outputs": [],
   "source": [
    "df.reset_index(drop = True, inplace = True)"
   ]
  },
  {
   "cell_type": "code",
   "execution_count": 5,
   "id": "876cadfd",
   "metadata": {},
   "outputs": [],
   "source": [
    "df = df[0:1000]"
   ]
  },
  {
   "cell_type": "code",
   "execution_count": 6,
   "id": "be3060d2",
   "metadata": {
    "scrolled": true
   },
   "outputs": [
    {
     "data": {
      "text/html": [
       "<div>\n",
       "<style scoped>\n",
       "    .dataframe tbody tr th:only-of-type {\n",
       "        vertical-align: middle;\n",
       "    }\n",
       "\n",
       "    .dataframe tbody tr th {\n",
       "        vertical-align: top;\n",
       "    }\n",
       "\n",
       "    .dataframe thead th {\n",
       "        text-align: right;\n",
       "    }\n",
       "</style>\n",
       "<table border=\"1\" class=\"dataframe\">\n",
       "  <thead>\n",
       "    <tr style=\"text-align: right;\">\n",
       "      <th></th>\n",
       "      <th>0</th>\n",
       "      <th>1</th>\n",
       "    </tr>\n",
       "  </thead>\n",
       "  <tbody>\n",
       "    <tr>\n",
       "      <th>0</th>\n",
       "      <td>Household</td>\n",
       "      <td>Trance Home Linen 100% Cotton 210 Tc Queen Dou...</td>\n",
       "    </tr>\n",
       "    <tr>\n",
       "      <th>1</th>\n",
       "      <td>Clothing &amp; Accessories</td>\n",
       "      <td>Momin Libas Pleated Neck Abaya Navy Blue color...</td>\n",
       "    </tr>\n",
       "    <tr>\n",
       "      <th>2</th>\n",
       "      <td>Books</td>\n",
       "      <td>Copy Colour: Fruits (Copy Colour Books)</td>\n",
       "    </tr>\n",
       "    <tr>\n",
       "      <th>3</th>\n",
       "      <td>Electronics</td>\n",
       "      <td>Blaupunkt San Marino 330 6.2 inch Touchscreen,...</td>\n",
       "    </tr>\n",
       "    <tr>\n",
       "      <th>4</th>\n",
       "      <td>Electronics</td>\n",
       "      <td>Rolltop Desktop Computer CPU, Intel CORE 2 Duo...</td>\n",
       "    </tr>\n",
       "  </tbody>\n",
       "</table>\n",
       "</div>"
      ],
      "text/plain": [
       "                        0                                                  1\n",
       "0               Household  Trance Home Linen 100% Cotton 210 Tc Queen Dou...\n",
       "1  Clothing & Accessories  Momin Libas Pleated Neck Abaya Navy Blue color...\n",
       "2                   Books           Copy Colour: Fruits (Copy Colour Books) \n",
       "3             Electronics  Blaupunkt San Marino 330 6.2 inch Touchscreen,...\n",
       "4             Electronics  Rolltop Desktop Computer CPU, Intel CORE 2 Duo..."
      ]
     },
     "execution_count": 6,
     "metadata": {},
     "output_type": "execute_result"
    }
   ],
   "source": [
    "df.head()"
   ]
  },
  {
   "cell_type": "markdown",
   "id": "2f134edf",
   "metadata": {},
   "source": [
    "### Check info"
   ]
  },
  {
   "cell_type": "code",
   "execution_count": 7,
   "id": "7e7e63e8",
   "metadata": {},
   "outputs": [
    {
     "name": "stdout",
     "output_type": "stream",
     "text": [
      "<class 'pandas.core.frame.DataFrame'>\n",
      "RangeIndex: 1000 entries, 0 to 999\n",
      "Data columns (total 2 columns):\n",
      " #   Column  Non-Null Count  Dtype \n",
      "---  ------  --------------  ----- \n",
      " 0   0       1000 non-null   object\n",
      " 1   1       1000 non-null   object\n",
      "dtypes: object(2)\n",
      "memory usage: 15.8+ KB\n"
     ]
    }
   ],
   "source": [
    "df.info()"
   ]
  },
  {
   "cell_type": "markdown",
   "id": "6ddb6118",
   "metadata": {},
   "source": [
    "### Check for missing values"
   ]
  },
  {
   "cell_type": "code",
   "execution_count": 8,
   "id": "7210798c",
   "metadata": {},
   "outputs": [
    {
     "data": {
      "text/plain": [
       "0    0\n",
       "1    0\n",
       "dtype: int64"
      ]
     },
     "execution_count": 8,
     "metadata": {},
     "output_type": "execute_result"
    }
   ],
   "source": [
    "df.isna().sum()"
   ]
  },
  {
   "cell_type": "markdown",
   "id": "ddfee8a5",
   "metadata": {},
   "source": [
    "### Drop missing rows"
   ]
  },
  {
   "cell_type": "code",
   "execution_count": 9,
   "id": "53d8e062",
   "metadata": {},
   "outputs": [],
   "source": [
    "df.dropna(inplace = True)"
   ]
  },
  {
   "cell_type": "markdown",
   "id": "b329541d",
   "metadata": {},
   "source": [
    "### Print some of the text along with its Label"
   ]
  },
  {
   "cell_type": "code",
   "execution_count": 10,
   "id": "929a39cf",
   "metadata": {},
   "outputs": [
    {
     "name": "stdout",
     "output_type": "stream",
     "text": [
      "Household -- Trance Home Linen 100% Cotton 210 Tc Queen Double Fitted Bedsheet with 2 Pillow Covers (Dark Blue, 78 x 60 inches) Color Name:dark blue   Ease your daily chores by using Trance fitted bedsheet. The bedsheet has 10/12 inch skirt that will help you tuck in mattresses upto 8\" inches deep. It includes a queen bed sheet and two pillow covers crafted from pure cotton.\n",
      "\n",
      "Clothing & Accessories -- Momin Libas Pleated Neck Abaya Navy Blue color. Made of Kashibo fabric. Exclusive of the prices of Hijab/ Scarf and Cap\n",
      "\n",
      "Books -- Copy Colour: Fruits (Copy Colour Books) \n",
      "\n",
      "Electronics -- Blaupunkt San Marino 330 6.2 inch Touchscreen, Bluetooth Car Multimedia Player (2 DIN) High grade tuner, FM band, Radio Data System (AF, CT, EON, PS, PTY, TA, TP, RT), AM band, Travelstore, 6.2” digital touch screen TFT, 800 x 480 pixels, Built-in, Bluetooth, Profiles: HFP, PBAP, A2DP, Built-in microphone, External microphone included, Audio, video, picture playback from USB/microSDHC.\n",
      "\n",
      "Electronics -- Rolltop Desktop Computer CPU, Intel CORE 2 Duo 2.9 GHZ Processor, G 31 Motherboard with LG DVD Writter Windows 7 & Microsoft Office Installed Trial Version with Free Wi Fi Adaptor (2GB/250GB) Size name:2GB/250GB   About the Product ROLLTOP Assembled Desktop Computer CPU |INTEL CORE 2 DUO 2.9 GHZ Processor |G 31 FRONTECH/ZEBRONICS Motherboard |2 GB RAM | 250 GB Hard Disk| FRONTECH Cabinet | FRONTECH Keyboard Mouse | Mini Wi Fi USB Adaptor | Windows 7 & MS Office Installed (Trial Version) , Why opt for Assembled Computer from Rolltop Infotech?  All the Components used for Assembled PC are Branded and Recommended for best Performance.Computer Parts are assembled by Professionals Computer Engineers ensuring quality Performance.Computer is Assembled and Installed and Dispatch is done after Quality Testing only.Recommend Configuration is selcted for Best Performance.Rolltop Infotech selct the Right Component for You which helps you to selct best configuration.Assembled Computer Comes with Free Wi-Fi Adaptor, makes your computer wi-fi enabledComputer Comes with Windows installed with all drivers.Pre-installed, Just Plug the Power and use the ComputerAll Branded Parts Comes with 1 Year Manufacturer/Seller Warrenty. Why Rolltop Infotech? ROLLTOP(TM) is Registered Trademark of Rolltop Infotech. We are pioneered in assembled desktop computer and established in 1996. We are assembling a wide range of high grade assembled Computers and one-of-a-kind products to our potential clients. For us, customer satisfaction is the topmost priority. We are at Rolltop Infotech dedicated to provide best quality Service to its Customers. We understand our Customer need for Assembled Desktop Computers and provide the PC's Accordingly\n",
      "\n"
     ]
    }
   ],
   "source": [
    "for i in range(5):\n",
    "    print(df[0][i],'--',df[1][i])\n",
    "    print()"
   ]
  },
  {
   "cell_type": "markdown",
   "id": "8261530c",
   "metadata": {},
   "source": [
    "### Create a function to preprocess the text"
   ]
  },
  {
   "cell_type": "code",
   "execution_count": 11,
   "id": "9dbc6fe4",
   "metadata": {},
   "outputs": [],
   "source": [
    "def preprocess(sentence):\n",
    "    sentence = sentence.lower()\n",
    "    \n",
    "    text = re.sub(r\"[^a-zA-Z0-9]\", ' ', sentence).split()\n",
    "    \n",
    "    lemma = WordNetLemmatizer()\n",
    "    text = [lemma.lemmatize(i) for i in text]\n",
    "    \n",
    "    return ' '.join(text)"
   ]
  },
  {
   "cell_type": "code",
   "execution_count": 12,
   "id": "b9dbec61",
   "metadata": {},
   "outputs": [],
   "source": [
    "df[1] = df[1].apply(preprocess)"
   ]
  },
  {
   "cell_type": "markdown",
   "id": "6ca61a38",
   "metadata": {},
   "source": [
    "### Print some of the texts after the applying the function"
   ]
  },
  {
   "cell_type": "code",
   "execution_count": 13,
   "id": "1a16a6fa",
   "metadata": {},
   "outputs": [
    {
     "name": "stdout",
     "output_type": "stream",
     "text": [
      "Household -- trance home linen 100 cotton 210 tc queen double fitted bedsheet with 2 pillow cover dark blue 78 x 60 inch color name dark blue ease your daily chore by using trance fitted bedsheet the bedsheet ha 10 12 inch skirt that will help you tuck in mattress upto 8 inch deep it includes a queen bed sheet and two pillow cover crafted from pure cotton\n",
      "\n",
      "Clothing & Accessories -- momin libas pleated neck abaya navy blue color made of kashibo fabric exclusive of the price of hijab scarf and cap\n",
      "\n",
      "Books -- copy colour fruit copy colour book\n",
      "\n",
      "Electronics -- blaupunkt san marino 330 6 2 inch touchscreen bluetooth car multimedia player 2 din high grade tuner fm band radio data system af ct eon p pty ta tp rt am band travelstore 6 2 digital touch screen tft 800 x 480 pixel built in bluetooth profile hfp pbap a2dp built in microphone external microphone included audio video picture playback from usb microsdhc\n",
      "\n",
      "Electronics -- rolltop desktop computer cpu intel core 2 duo 2 9 ghz processor g 31 motherboard with lg dvd writter window 7 microsoft office installed trial version with free wi fi adaptor 2gb 250gb size name 2gb 250gb about the product rolltop assembled desktop computer cpu intel core 2 duo 2 9 ghz processor g 31 frontech zebronics motherboard 2 gb ram 250 gb hard disk frontech cabinet frontech keyboard mouse mini wi fi usb adaptor window 7 m office installed trial version why opt for assembled computer from rolltop infotech all the component used for assembled pc are branded and recommended for best performance computer part are assembled by professional computer engineer ensuring quality performance computer is assembled and installed and dispatch is done after quality testing only recommend configuration is selcted for best performance rolltop infotech selct the right component for you which help you to selct best configuration assembled computer come with free wi fi adaptor make your computer wi fi enabledcomputer come with window installed with all driver pre installed just plug the power and use the computerall branded part come with 1 year manufacturer seller warrenty why rolltop infotech rolltop tm is registered trademark of rolltop infotech we are pioneered in assembled desktop computer and established in 1996 we are assembling a wide range of high grade assembled computer and one of a kind product to our potential client for u customer satisfaction is the topmost priority we are at rolltop infotech dedicated to provide best quality service to it customer we understand our customer need for assembled desktop computer and provide the pc s accordingly\n",
      "\n"
     ]
    }
   ],
   "source": [
    "for i in range(5):\n",
    "    print(df[0][i],'--',df[1][i])\n",
    "    print()"
   ]
  },
  {
   "cell_type": "markdown",
   "id": "6453c4c8",
   "metadata": {},
   "source": [
    "### Check for imbalance in the dataset"
   ]
  },
  {
   "cell_type": "code",
   "execution_count": 14,
   "id": "b26a2b82",
   "metadata": {},
   "outputs": [
    {
     "data": {
      "text/plain": [
       "<Axes: ylabel='count'>"
      ]
     },
     "execution_count": 14,
     "metadata": {},
     "output_type": "execute_result"
    },
    {
     "data": {
      "image/png": "[encoded data removed]",
      "text/plain": [
       "<Figure size 1400x400 with 2 Axes>"
      ]
     },
     "metadata": {},
     "output_type": "display_data"
    }
   ],
   "source": [
    "plt.figure(figsize= (14,4))\n",
    "plt.subplot(1,2,1)\n",
    "sns.countplot(y = df[0])\n",
    "plt.subplot(1,2,2)\n",
    "df[0].value_counts().plot.pie(autopct = '%1.1f%%', cmap = 'plasma')"
   ]
  },
  {
   "cell_type": "markdown",
   "id": "ae6df594",
   "metadata": {},
   "source": [
    "### Split the dataset into Input & Target Variables"
   ]
  },
  {
   "cell_type": "code",
   "execution_count": 15,
   "id": "35bba160",
   "metadata": {},
   "outputs": [],
   "source": [
    "X = df[1]"
   ]
  },
  {
   "cell_type": "code",
   "execution_count": 16,
   "id": "700b5d61",
   "metadata": {},
   "outputs": [],
   "source": [
    "y = df[0]"
   ]
  },
  {
   "cell_type": "markdown",
   "id": "391c3c5e",
   "metadata": {},
   "source": [
    "### Label Encode our Target Variables"
   ]
  },
  {
   "cell_type": "code",
   "execution_count": 17,
   "id": "b23ffb32",
   "metadata": {},
   "outputs": [],
   "source": [
    "y = y.map({'Household':0,'Books':1, 'Clothing & Accessories':2, 'Electronics':3})"
   ]
  },
  {
   "cell_type": "markdown",
   "id": "dd925a6a",
   "metadata": {},
   "source": [
    "### Create Keras tokenizer object with 5000 max words\n",
    "* Convert text to sequence\n",
    "* Add padding"
   ]
  },
  {
   "cell_type": "code",
   "execution_count": 18,
   "id": "1602b299",
   "metadata": {},
   "outputs": [],
   "source": [
    "tokenizer = Tokenizer(num_words=5000)\n",
    "tokenizer.fit_on_texts(X)\n",
    "vocab_size = len(tokenizer.word_index) + 1\n",
    "\n",
    "def text_encoding(txt):\n",
    "    encoded_docs = tokenizer.texts_to_sequences(txt)\n",
    "    \n",
    "    padded_sequence = pad_sequences(encoded_docs, maxlen = 128)\n",
    "    \n",
    "    return padded_sequence\n",
    "\n",
    "X = text_encoding(X)"
   ]
  },
  {
   "cell_type": "markdown",
   "id": "646a5215",
   "metadata": {},
   "source": [
    "### Split the dataset into Training & Testing set"
   ]
  },
  {
   "cell_type": "code",
   "execution_count": 19,
   "id": "031d0aeb",
   "metadata": {},
   "outputs": [],
   "source": [
    "X_train, X_test,y_train,y_test = train_test_split(X,y, test_size = 0.2)"
   ]
  },
  {
   "cell_type": "markdown",
   "id": "8a03f6e5",
   "metadata": {},
   "source": [
    "### Create keras Sequential model with Bidirectional LSTM layers"
   ]
  },
  {
   "cell_type": "code",
   "execution_count": 20,
   "id": "df2f07b8",
   "metadata": {},
   "outputs": [],
   "source": [
    "model = Sequential()\n",
    "\n",
    "model.add(layers.Embedding(vocab_size, 128))\n",
    "\n",
    "model.add(layers.Bidirectional(layers.LSTM(128, return_sequences=True)))\n",
    "model.add(layers.Dropout(0.2))\n",
    "\n",
    "model.add(layers.Bidirectional(layers.LSTM(128)))\n",
    "model.add(layers.Dropout(0.2))\n",
    "\n",
    "model.add(layers.Dense(4, activation = 'sigmoid'))"
   ]
  },
  {
   "cell_type": "markdown",
   "id": "3652d285",
   "metadata": {},
   "source": [
    "### Compile the model"
   ]
  },
  {
   "cell_type": "code",
   "execution_count": 21,
   "id": "7257228e",
   "metadata": {},
   "outputs": [],
   "source": [
    "model.compile(optimizer = 'adam', loss= 'sparse_categorical_crossentropy', metrics = ['accuracy'])"
   ]
  },
  {
   "cell_type": "markdown",
   "id": "00de5e0e",
   "metadata": {},
   "source": [
    "### Train the model"
   ]
  },
  {
   "cell_type": "code",
   "execution_count": 22,
   "id": "b3b014fc",
   "metadata": {},
   "outputs": [
    {
     "name": "stdout",
     "output_type": "stream",
     "text": [
      "Epoch 1/10\n",
      "24/24 [==============================] - 22s 591ms/step - loss: 1.3479 - accuracy: 0.3605 - val_loss: 1.2771 - val_accuracy: 0.3750\n",
      "Epoch 2/10\n",
      "24/24 [==============================] - 11s 457ms/step - loss: 1.0228 - accuracy: 0.5684 - val_loss: 0.7308 - val_accuracy: 0.7750\n",
      "Epoch 3/10\n",
      "24/24 [==============================] - 11s 458ms/step - loss: 0.5851 - accuracy: 0.7842 - val_loss: 0.7680 - val_accuracy: 0.7250\n",
      "Epoch 4/10\n",
      "24/24 [==============================] - 12s 484ms/step - loss: 0.2414 - accuracy: 0.9211 - val_loss: 0.6688 - val_accuracy: 0.8000\n",
      "Epoch 5/10\n",
      "24/24 [==============================] - 11s 464ms/step - loss: 0.0679 - accuracy: 0.9855 - val_loss: 1.1159 - val_accuracy: 0.6750\n",
      "Epoch 6/10\n",
      "24/24 [==============================] - 11s 460ms/step - loss: 0.0470 - accuracy: 0.9868 - val_loss: 0.5588 - val_accuracy: 0.8250\n",
      "Epoch 7/10\n",
      "24/24 [==============================] - 11s 447ms/step - loss: 0.0223 - accuracy: 0.9961 - val_loss: 0.5746 - val_accuracy: 0.8750\n",
      "Epoch 8/10\n",
      "24/24 [==============================] - 10s 428ms/step - loss: 0.0127 - accuracy: 0.9987 - val_loss: 0.5540 - val_accuracy: 0.9000\n",
      "Epoch 9/10\n",
      "24/24 [==============================] - 10s 423ms/step - loss: 0.0066 - accuracy: 0.9987 - val_loss: 0.5603 - val_accuracy: 0.9000\n",
      "Epoch 10/10\n",
      "24/24 [==============================] - 10s 433ms/step - loss: 0.0045 - accuracy: 0.9987 - val_loss: 0.5376 - val_accuracy: 0.9000\n"
     ]
    },
    {
     "data": {
      "text/plain": [
       "<keras.src.callbacks.History at 0x2231721fe10>"
      ]
     },
     "execution_count": 22,
     "metadata": {},
     "output_type": "execute_result"
    }
   ],
   "source": [
    "model.fit(X_train, y_train, epochs = 10, validation_split=0.05)"
   ]
  },
  {
   "cell_type": "markdown",
   "id": "7286d926",
   "metadata": {},
   "source": [
    "### Make predictions with X_test"
   ]
  },
  {
   "cell_type": "code",
   "execution_count": 23,
   "id": "9c0c2c9a",
   "metadata": {},
   "outputs": [
    {
     "name": "stdout",
     "output_type": "stream",
     "text": [
      "7/7 [==============================] - 2s 133ms/step\n"
     ]
    }
   ],
   "source": [
    "y_pred = model.predict(X_test)"
   ]
  },
  {
   "cell_type": "markdown",
   "id": "5be37c95",
   "metadata": {},
   "source": [
    "### Fetch the index of the higher probable prediction"
   ]
  },
  {
   "cell_type": "code",
   "execution_count": 24,
   "id": "9796e71b",
   "metadata": {},
   "outputs": [],
   "source": [
    "y_pred = [np.argmax(i) for i in y_pred]"
   ]
  },
  {
   "cell_type": "markdown",
   "id": "330f1e88",
   "metadata": {},
   "source": [
    "### Evaluate the model"
   ]
  },
  {
   "cell_type": "markdown",
   "id": "a018f2c7",
   "metadata": {},
   "source": [
    "### Accuracy score"
   ]
  },
  {
   "cell_type": "code",
   "execution_count": 25,
   "id": "014fbaf7",
   "metadata": {},
   "outputs": [
    {
     "data": {
      "text/plain": [
       "0.88"
      ]
     },
     "execution_count": 25,
     "metadata": {},
     "output_type": "execute_result"
    }
   ],
   "source": [
    "accuracy_score(y_test,y_pred)"
   ]
  },
  {
   "cell_type": "markdown",
   "id": "71207bfa",
   "metadata": {},
   "source": [
    "### Confusion matrix"
   ]
  },
  {
   "cell_type": "code",
   "execution_count": 26,
   "id": "a6ac7901",
   "metadata": {},
   "outputs": [
    {
     "data": {
      "text/plain": [
       "<Axes: >"
      ]
     },
     "execution_count": 26,
     "metadata": {},
     "output_type": "execute_result"
    },
    {
     "data": {
      "image/png": "[encoded data removed]",
      "text/plain": [
       "<Figure size 640x480 with 2 Axes>"
      ]
     },
     "metadata": {},
     "output_type": "display_data"
    }
   ],
   "source": [
    "sns.heatmap(confusion_matrix(y_test,y_pred), annot = True, fmt = 'd')"
   ]
  },
  {
   "cell_type": "markdown",
   "id": "e0d72289",
   "metadata": {},
   "source": [
    "### Classification Report"
   ]
  },
  {
   "cell_type": "code",
   "execution_count": 27,
   "id": "9dacd583",
   "metadata": {},
   "outputs": [
    {
     "name": "stdout",
     "output_type": "stream",
     "text": [
      "              precision    recall  f1-score   support\n",
      "\n",
      "           0       0.83      0.93      0.88        76\n",
      "           1       0.91      0.93      0.92        44\n",
      "           2       1.00      0.69      0.82        39\n",
      "           3       0.88      0.90      0.89        41\n",
      "\n",
      "    accuracy                           0.88       200\n",
      "   macro avg       0.90      0.87      0.88       200\n",
      "weighted avg       0.89      0.88      0.88       200\n",
      "\n"
     ]
    }
   ],
   "source": [
    "print(classification_report(y_test,y_pred))"
   ]
  },
  {
   "cell_type": "markdown",
   "id": "a0554b93",
   "metadata": {},
   "source": [
    "***"
   ]
  }
 ],
 "metadata": {
  "kernelspec": {
   "display_name": "Python 3 (ipykernel)",
   "language": "python",
   "name": "python3"
  },
  "language_info": {
   "codemirror_mode": {
    "name": "ipython",
    "version": 3
   },
   "file_extension": ".py",
   "mimetype": "text/x-python",
   "name": "python",
   "nbconvert_exporter": "python",
   "pygments_lexer": "ipython3",
   "version": "3.11.5"
  }
 },
 "nbformat": 4,
 "nbformat_minor": 5
}
