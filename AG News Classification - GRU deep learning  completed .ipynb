{
 "cells": [
  {
   "cell_type": "markdown",
   "id": "e854f950",
   "metadata": {},
   "source": [
    "### AG News Classification"
   ]
  },
  {
   "cell_type": "markdown",
   "id": "d6891116",
   "metadata": {},
   "source": [
    "***"
   ]
  },
  {
   "cell_type": "markdown",
   "id": "cd37d48c",
   "metadata": {},
   "source": [
    "### Import Necessary Libraries"
   ]
  },
  {
   "cell_type": "code",
   "execution_count": 4,
   "id": "e1d257aa",
   "metadata": {},
   "outputs": [],
   "source": [
    "import numpy as np\n",
    "import pandas as pd\n",
    "import matplotlib.pyplot as plt\n",
    "import seaborn as sns\n",
    "from sklearn.model_selection import train_test_split\n",
    "import re\n",
    "from nltk.corpus import stopwords\n",
    "from nltk.stem import WordNetLemmatizer\n",
    "from sklearn.preprocessing import LabelBinarizer\n",
    "from keras.preprocessing.text import Tokenizer\n",
    "from tensorflow.keras.preprocessing.sequence import pad_sequences\n",
    "from keras import Sequential\n",
    "from keras import layers\n",
    "from sklearn.metrics import confusion_matrix, classification_report, accuracy_score"
   ]
  },
  {
   "cell_type": "markdown",
   "id": "34499970",
   "metadata": {},
   "source": [
    "### Read the dataset"
   ]
  },
  {
   "cell_type": "code",
   "execution_count": 5,
   "id": "4688d1d8",
   "metadata": {},
   "outputs": [],
   "source": [
    "df = pd.read_csv('agnews.csv')"
   ]
  },
  {
   "cell_type": "markdown",
   "id": "d3df4c78",
   "metadata": {},
   "source": [
    "### Save only a portion of the dataset"
   ]
  },
  {
   "cell_type": "code",
   "execution_count": 6,
   "id": "bc751e88",
   "metadata": {},
   "outputs": [],
   "source": [
    "df = df[0:20000]"
   ]
  },
  {
   "cell_type": "code",
   "execution_count": 7,
   "id": "1668be7f",
   "metadata": {},
   "outputs": [
    {
     "data": {
      "text/html": [
       "<div>\n",
       "<style scoped>\n",
       "    .dataframe tbody tr th:only-of-type {\n",
       "        vertical-align: middle;\n",
       "    }\n",
       "\n",
       "    .dataframe tbody tr th {\n",
       "        vertical-align: top;\n",
       "    }\n",
       "\n",
       "    .dataframe thead th {\n",
       "        text-align: right;\n",
       "    }\n",
       "</style>\n",
       "<table border=\"1\" class=\"dataframe\">\n",
       "  <thead>\n",
       "    <tr style=\"text-align: right;\">\n",
       "      <th></th>\n",
       "      <th>Class Index</th>\n",
       "      <th>Title</th>\n",
       "      <th>Description</th>\n",
       "    </tr>\n",
       "  </thead>\n",
       "  <tbody>\n",
       "    <tr>\n",
       "      <th>0</th>\n",
       "      <td>3</td>\n",
       "      <td>Wall St. Bears Claw Back Into the Black (Reuters)</td>\n",
       "      <td>Reuters - Short-sellers, Wall Street's dwindli...</td>\n",
       "    </tr>\n",
       "    <tr>\n",
       "      <th>1</th>\n",
       "      <td>3</td>\n",
       "      <td>Carlyle Looks Toward Commercial Aerospace (Reu...</td>\n",
       "      <td>Reuters - Private investment firm Carlyle Grou...</td>\n",
       "    </tr>\n",
       "    <tr>\n",
       "      <th>2</th>\n",
       "      <td>3</td>\n",
       "      <td>Oil and Economy Cloud Stocks' Outlook (Reuters)</td>\n",
       "      <td>Reuters - Soaring crude prices plus worries\\ab...</td>\n",
       "    </tr>\n",
       "    <tr>\n",
       "      <th>3</th>\n",
       "      <td>3</td>\n",
       "      <td>Iraq Halts Oil Exports from Main Southern Pipe...</td>\n",
       "      <td>Reuters - Authorities have halted oil export\\f...</td>\n",
       "    </tr>\n",
       "    <tr>\n",
       "      <th>4</th>\n",
       "      <td>3</td>\n",
       "      <td>Oil prices soar to all-time record, posing new...</td>\n",
       "      <td>AFP - Tearaway world oil prices, toppling reco...</td>\n",
       "    </tr>\n",
       "  </tbody>\n",
       "</table>\n",
       "</div>"
      ],
      "text/plain": [
       "   Class Index                                              Title  \\\n",
       "0            3  Wall St. Bears Claw Back Into the Black (Reuters)   \n",
       "1            3  Carlyle Looks Toward Commercial Aerospace (Reu...   \n",
       "2            3    Oil and Economy Cloud Stocks' Outlook (Reuters)   \n",
       "3            3  Iraq Halts Oil Exports from Main Southern Pipe...   \n",
       "4            3  Oil prices soar to all-time record, posing new...   \n",
       "\n",
       "                                         Description  \n",
       "0  Reuters - Short-sellers, Wall Street's dwindli...  \n",
       "1  Reuters - Private investment firm Carlyle Grou...  \n",
       "2  Reuters - Soaring crude prices plus worries\\ab...  \n",
       "3  Reuters - Authorities have halted oil export\\f...  \n",
       "4  AFP - Tearaway world oil prices, toppling reco...  "
      ]
     },
     "execution_count": 7,
     "metadata": {},
     "output_type": "execute_result"
    }
   ],
   "source": [
    "df.head()"
   ]
  },
  {
   "cell_type": "markdown",
   "id": "6a571088",
   "metadata": {},
   "source": [
    "### Shuffle the dataset"
   ]
  },
  {
   "cell_type": "code",
   "execution_count": 8,
   "id": "b02ebaa0",
   "metadata": {},
   "outputs": [],
   "source": [
    "df = df.sample(frac = 1)"
   ]
  },
  {
   "cell_type": "code",
   "execution_count": 9,
   "id": "26cd3c9c",
   "metadata": {},
   "outputs": [],
   "source": [
    "df.reset_index(drop = True, inplace = True)"
   ]
  },
  {
   "cell_type": "code",
   "execution_count": 10,
   "id": "83af1f7b",
   "metadata": {},
   "outputs": [
    {
     "name": "stdout",
     "output_type": "stream",
     "text": [
      "\\\\Indonesian authorities arrest the governor of Aceh province for alleged involvement in a corrupt helicopter purchase. - 1\n",
      "\n",
      "Sproles ran for 221 yards and a touchdown to lead Kansas State to a lackluster 27-13 victory over Division I-AA Western Kentucky in the season opener for both teams. - 2\n",
      "\n",
      "AP - Russian investigators labored Wednesday to determine whether terrorism caused the near-simultaneous crashes of two jetliners, killing all 89 people aboard and spreading anxieties about a possible bloody escalation of the Chechen conflict. - 1\n",
      "\n",
      "TRIPOLI: Libya signed a deal yesterday to pay \\$35 million (BD13m) in compensation to mainly German victims of a Berlin nightclub bombing 18 years ago. - 1\n",
      "\n",
      " NEW YORK (Reuters) - Krispy Kreme Doughnuts Inc. &lt;A HREF=\"http://www.investor.reuters.com/FullQuote.aspx?ticker=KKD.N target=/stocks/quickinfo/fullquote\"&gt;KKD.N&lt;/A&gt; on  Thursday posted sharply lower quarterly earnings, signaled that  the second half of the year would be weak and scaled back store  openings after it was battered by the low-carbohydrate diet  craze. - 3\n",
      "\n",
      "ATHENS - Adrian Annus of Hungary, the Athens Olympic men #39;s hammer throw champion embroiled in a doping scandal, will appear at a hearing of the International Olympic Committee #39;s disciplinary commission on Sunday to explain his case, IOC officials said  - 2\n",
      "\n",
      "Reuters - The home minister has ruled out lifting an unpopular law giving the army widespread powers of arrest in the country's remote northeast, despite two months of bitter protests in Manipur. - 1\n",
      "\n",
      "Prime Minister John Howard came under fire Friday for bankrolling a pre-election e-mail campaign carried out by a company run by his son. - 4\n",
      "\n",
      "AP - Scientists would kill possibly thousands of white perch under a project to help restore the ecological balance of East Pond in the Belgrade chain of lakes in central Maine. - 4\n",
      "\n",
      "AFP - Eight men arrested in an anti-terror swoop in London and other parts of England two weeks ago were charged with conspiracy to murder and other terrorist-related activities. - 1\n",
      "\n"
     ]
    }
   ],
   "source": [
    "for i in range(10):\n",
    "    print(df['Description'][i],'-', df['Class Index'][i])\n",
    "    print()"
   ]
  },
  {
   "cell_type": "markdown",
   "id": "c8f9e71b",
   "metadata": {},
   "source": [
    "### Check Info"
   ]
  },
  {
   "cell_type": "code",
   "execution_count": 11,
   "id": "10afca43",
   "metadata": {},
   "outputs": [
    {
     "name": "stdout",
     "output_type": "stream",
     "text": [
      "<class 'pandas.core.frame.DataFrame'>\n",
      "RangeIndex: 20000 entries, 0 to 19999\n",
      "Data columns (total 3 columns):\n",
      " #   Column       Non-Null Count  Dtype \n",
      "---  ------       --------------  ----- \n",
      " 0   Class Index  20000 non-null  int64 \n",
      " 1   Title        20000 non-null  object\n",
      " 2   Description  20000 non-null  object\n",
      "dtypes: int64(1), object(2)\n",
      "memory usage: 468.9+ KB\n"
     ]
    }
   ],
   "source": [
    "df.info()"
   ]
  },
  {
   "cell_type": "markdown",
   "id": "f0266be4",
   "metadata": {},
   "source": [
    "### View basic statistical information about the dataset"
   ]
  },
  {
   "cell_type": "code",
   "execution_count": 12,
   "id": "0eb894b6",
   "metadata": {},
   "outputs": [
    {
     "data": {
      "text/html": [
       "<div>\n",
       "<style scoped>\n",
       "    .dataframe tbody tr th:only-of-type {\n",
       "        vertical-align: middle;\n",
       "    }\n",
       "\n",
       "    .dataframe tbody tr th {\n",
       "        vertical-align: top;\n",
       "    }\n",
       "\n",
       "    .dataframe thead th {\n",
       "        text-align: right;\n",
       "    }\n",
       "</style>\n",
       "<table border=\"1\" class=\"dataframe\">\n",
       "  <thead>\n",
       "    <tr style=\"text-align: right;\">\n",
       "      <th></th>\n",
       "      <th>Class Index</th>\n",
       "      <th>Title</th>\n",
       "      <th>Description</th>\n",
       "    </tr>\n",
       "  </thead>\n",
       "  <tbody>\n",
       "    <tr>\n",
       "      <th>count</th>\n",
       "      <td>20000.000000</td>\n",
       "      <td>20000</td>\n",
       "      <td>20000</td>\n",
       "    </tr>\n",
       "    <tr>\n",
       "      <th>unique</th>\n",
       "      <td>NaN</td>\n",
       "      <td>19020</td>\n",
       "      <td>19781</td>\n",
       "    </tr>\n",
       "    <tr>\n",
       "      <th>top</th>\n",
       "      <td>NaN</td>\n",
       "      <td>SI.com</td>\n",
       "      <td>ATHENS, Greece - Michael Phelps doesn't mind m...</td>\n",
       "    </tr>\n",
       "    <tr>\n",
       "      <th>freq</th>\n",
       "      <td>NaN</td>\n",
       "      <td>13</td>\n",
       "      <td>4</td>\n",
       "    </tr>\n",
       "    <tr>\n",
       "      <th>mean</th>\n",
       "      <td>2.484500</td>\n",
       "      <td>NaN</td>\n",
       "      <td>NaN</td>\n",
       "    </tr>\n",
       "    <tr>\n",
       "      <th>std</th>\n",
       "      <td>1.133633</td>\n",
       "      <td>NaN</td>\n",
       "      <td>NaN</td>\n",
       "    </tr>\n",
       "    <tr>\n",
       "      <th>min</th>\n",
       "      <td>1.000000</td>\n",
       "      <td>NaN</td>\n",
       "      <td>NaN</td>\n",
       "    </tr>\n",
       "    <tr>\n",
       "      <th>25%</th>\n",
       "      <td>1.000000</td>\n",
       "      <td>NaN</td>\n",
       "      <td>NaN</td>\n",
       "    </tr>\n",
       "    <tr>\n",
       "      <th>50%</th>\n",
       "      <td>2.000000</td>\n",
       "      <td>NaN</td>\n",
       "      <td>NaN</td>\n",
       "    </tr>\n",
       "    <tr>\n",
       "      <th>75%</th>\n",
       "      <td>4.000000</td>\n",
       "      <td>NaN</td>\n",
       "      <td>NaN</td>\n",
       "    </tr>\n",
       "    <tr>\n",
       "      <th>max</th>\n",
       "      <td>4.000000</td>\n",
       "      <td>NaN</td>\n",
       "      <td>NaN</td>\n",
       "    </tr>\n",
       "  </tbody>\n",
       "</table>\n",
       "</div>"
      ],
      "text/plain": [
       "         Class Index   Title  \\\n",
       "count   20000.000000   20000   \n",
       "unique           NaN   19020   \n",
       "top              NaN  SI.com   \n",
       "freq             NaN      13   \n",
       "mean        2.484500     NaN   \n",
       "std         1.133633     NaN   \n",
       "min         1.000000     NaN   \n",
       "25%         1.000000     NaN   \n",
       "50%         2.000000     NaN   \n",
       "75%         4.000000     NaN   \n",
       "max         4.000000     NaN   \n",
       "\n",
       "                                              Description  \n",
       "count                                               20000  \n",
       "unique                                              19781  \n",
       "top     ATHENS, Greece - Michael Phelps doesn't mind m...  \n",
       "freq                                                    4  \n",
       "mean                                                  NaN  \n",
       "std                                                   NaN  \n",
       "min                                                   NaN  \n",
       "25%                                                   NaN  \n",
       "50%                                                   NaN  \n",
       "75%                                                   NaN  \n",
       "max                                                   NaN  "
      ]
     },
     "execution_count": 12,
     "metadata": {},
     "output_type": "execute_result"
    }
   ],
   "source": [
    "df.describe(include = 'all')"
   ]
  },
  {
   "cell_type": "markdown",
   "id": "fece4e65",
   "metadata": {},
   "source": [
    "### Check for missing values"
   ]
  },
  {
   "cell_type": "code",
   "execution_count": 13,
   "id": "35e28d38",
   "metadata": {},
   "outputs": [
    {
     "data": {
      "text/plain": [
       "Class Index    0\n",
       "Title          0\n",
       "Description    0\n",
       "dtype: int64"
      ]
     },
     "execution_count": 13,
     "metadata": {},
     "output_type": "execute_result"
    }
   ],
   "source": [
    "df.isna().sum()"
   ]
  },
  {
   "cell_type": "markdown",
   "id": "51c73a14",
   "metadata": {},
   "source": [
    "### Check for duplicates"
   ]
  },
  {
   "cell_type": "code",
   "execution_count": 14,
   "id": "95a55803",
   "metadata": {},
   "outputs": [
    {
     "data": {
      "text/plain": [
       "0"
      ]
     },
     "execution_count": 14,
     "metadata": {},
     "output_type": "execute_result"
    }
   ],
   "source": [
    "df.duplicated().sum()"
   ]
  },
  {
   "cell_type": "markdown",
   "id": "989da562",
   "metadata": {},
   "source": [
    "### Plot a countplot of the Class Index"
   ]
  },
  {
   "cell_type": "code",
   "execution_count": 15,
   "id": "33dfcc4c",
   "metadata": {},
   "outputs": [
    {
     "data": {
      "image/png": "[encoded data removed]",
      "text/plain": [
       "<Figure size 1000x600 with 1 Axes>"
      ]
     },
     "metadata": {},
     "output_type": "display_data"
    }
   ],
   "source": [
    "plt.figure(figsize = (10,6))\n",
    "sns.countplot(y = df['Class Index'])\n",
    "plt.show()"
   ]
  },
  {
   "cell_type": "markdown",
   "id": "238716f8",
   "metadata": {},
   "source": [
    "### Create a funciton to preprocess the text"
   ]
  },
  {
   "cell_type": "code",
   "execution_count": 16,
   "id": "2a914431",
   "metadata": {},
   "outputs": [],
   "source": [
    "def preprocess(sentence):\n",
    "    #removes all the special characters and split the sentence at spaces\n",
    "    text = re.sub(r\"[^a-zA-Z0-9]\",\" \",sentence).split()\n",
    "    \n",
    "    # converts words to lowercase and removes any stopwords\n",
    "    words = [x.lower() for x in text if x not in stopwords.words('english')]\n",
    "    \n",
    "    # Lemmatize the words\n",
    "    lemma = WordNetLemmatizer()\n",
    "    word = [lemma.lemmatize(word,'v') for word in words ]\n",
    "    \n",
    "    # convert the list of words back into a sentence\n",
    "    word = ' '.join(word)\n",
    "    return word"
   ]
  },
  {
   "cell_type": "markdown",
   "id": "e5482c35",
   "metadata": {},
   "source": [
    "### Apply the preprocess function to the description"
   ]
  },
  {
   "cell_type": "code",
   "execution_count": 18,
   "id": "757bd073",
   "metadata": {},
   "outputs": [],
   "source": [
    "df['Description'] = df['Description'].apply(preprocess)"
   ]
  },
  {
   "cell_type": "code",
   "execution_count": 19,
   "id": "bee0e846",
   "metadata": {},
   "outputs": [
    {
     "name": "stdout",
     "output_type": "stream",
     "text": [
      "indonesian authorities arrest governor aceh province allege involvement corrupt helicopter purchase - 1\n",
      "\n",
      "sproles run 221 yards touchdown lead kansas state lackluster 27 13 victory division aa western kentucky season opener team - 2\n",
      "\n",
      "ap russian investigators labor wednesday determine whether terrorism cause near simultaneous crash two jetliners kill 89 people aboard spread anxieties possible bloody escalation chechen conflict - 1\n",
      "\n",
      "tripoli libya sign deal yesterday pay 35 million bd13m compensation mainly german victims berlin nightclub bomb 18 years ago - 1\n",
      "\n",
      "new york reuters krispy kreme doughnuts inc lt href http www investor reuters com fullquote aspx ticker kkd n target stock quickinfo fullquote gt kkd n lt gt thursday post sharply lower quarterly earn signal second half year would weak scale back store open batter low carbohydrate diet craze - 3\n",
      "\n",
      "athens adrian annus hungary athens olympic men 39 hammer throw champion embroil dope scandal appear hear international olympic committee 39 disciplinary commission sunday explain case ioc officials say - 2\n",
      "\n",
      "reuters home minister rule lift unpopular law give army widespread power arrest country remote northeast despite two months bitter protest manipur - 1\n",
      "\n",
      "prime minister john howard come fire friday bankroll pre election e mail campaign carry company run son - 4\n",
      "\n",
      "ap scientists would kill possibly thousands white perch project help restore ecological balance east pond belgrade chain lakes central maine - 4\n",
      "\n",
      "afp eight men arrest anti terror swoop london part england two weeks ago charge conspiracy murder terrorist relate activities - 1\n",
      "\n"
     ]
    }
   ],
   "source": [
    "for i in range(10):\n",
    "    print(df['Description'][i],'-', df['Class Index'][i])\n",
    "    print()"
   ]
  },
  {
   "cell_type": "markdown",
   "id": "7f5cd81f",
   "metadata": {},
   "source": [
    "### Split Input & Target Variables"
   ]
  },
  {
   "cell_type": "code",
   "execution_count": 20,
   "id": "36b06902",
   "metadata": {},
   "outputs": [],
   "source": [
    "X = df['Description']\n",
    "y = df['Class Index']"
   ]
  },
  {
   "cell_type": "markdown",
   "id": "9fd47542",
   "metadata": {},
   "source": [
    "### One Hot encode our Target Variable"
   ]
  },
  {
   "cell_type": "code",
   "execution_count": 21,
   "id": "ca1e920a",
   "metadata": {},
   "outputs": [],
   "source": [
    "encoder = LabelBinarizer()\n",
    "y = encoder.fit_transform(y)"
   ]
  },
  {
   "cell_type": "code",
   "execution_count": 22,
   "id": "9130e2df",
   "metadata": {},
   "outputs": [
    {
     "data": {
      "text/plain": [
       "array([1, 2, 3, 4], dtype=int64)"
      ]
     },
     "execution_count": 22,
     "metadata": {},
     "output_type": "execute_result"
    }
   ],
   "source": [
    "labels = encoder.classes_\n",
    "labels"
   ]
  },
  {
   "cell_type": "markdown",
   "id": "ff702320",
   "metadata": {},
   "source": [
    "### Split the dataset into Training & Testing Set"
   ]
  },
  {
   "cell_type": "code",
   "execution_count": 23,
   "id": "5bb963f3",
   "metadata": {},
   "outputs": [],
   "source": [
    "X_train, X_test, y_train, y_test = train_test_split(X,y, test_size = 0.20)"
   ]
  },
  {
   "cell_type": "markdown",
   "id": "4899cdd8",
   "metadata": {},
   "source": [
    "### Create a keras Tokenizer object"
   ]
  },
  {
   "cell_type": "markdown",
   "id": "a8d31af9",
   "metadata": {},
   "source": [
    "In the Keras library, the Tokenizer is a class that can be used to preprocess text data. It allows you to convert a collection of text documents into a numerical representation that can be used as input to a machine learning model."
   ]
  },
  {
   "cell_type": "code",
   "execution_count": 24,
   "id": "148b6602",
   "metadata": {},
   "outputs": [],
   "source": [
    "tokenizer = Tokenizer(num_words=5000)"
   ]
  },
  {
   "cell_type": "markdown",
   "id": "0106d65f",
   "metadata": {},
   "source": [
    "### fit on text for our X"
   ]
  },
  {
   "cell_type": "code",
   "execution_count": 25,
   "id": "e4b0e299",
   "metadata": {},
   "outputs": [],
   "source": [
    "tokenizer.fit_on_texts(X)"
   ]
  },
  {
   "cell_type": "code",
   "execution_count": 26,
   "id": "ea63d23d",
   "metadata": {},
   "outputs": [],
   "source": [
    "vocab_size = len(tokenizer.word_index) + 1"
   ]
  },
  {
   "cell_type": "markdown",
   "id": "af876411",
   "metadata": {},
   "source": [
    "### Create a function to convert text to numerical representation and add padding"
   ]
  },
  {
   "cell_type": "code",
   "execution_count": 27,
   "id": "afd5a26e",
   "metadata": {},
   "outputs": [],
   "source": [
    "def text_encoding(txt):\n",
    "    # texts_to_sequences Transforms each text in texts to a sequence of integers.\n",
    "    encoded_docs = tokenizer.texts_to_sequences(txt)\n",
    "    \n",
    "    # pad_sequences is used to ensure that all sequences in a list have the same length.\n",
    "    padded_sequence = pad_sequences(encoded_docs, maxlen=128)    \n",
    "       \n",
    "    return padded_sequence"
   ]
  },
  {
   "cell_type": "markdown",
   "id": "24006817",
   "metadata": {},
   "source": [
    "### Apply the function to our X_train & X_test"
   ]
  },
  {
   "cell_type": "code",
   "execution_count": 28,
   "id": "6a95adf7",
   "metadata": {},
   "outputs": [],
   "source": [
    "X_train = text_encoding(X_train)\n",
    "X_test = text_encoding(X_test)"
   ]
  },
  {
   "cell_type": "markdown",
   "id": "191d1a9f",
   "metadata": {},
   "source": [
    "### Create keras Sequential model with GRU Layers"
   ]
  },
  {
   "cell_type": "code",
   "execution_count": 29,
   "id": "d31f505c",
   "metadata": {},
   "outputs": [],
   "source": [
    "model = Sequential()\n",
    "### Embedding layer\n",
    "model.add(layers.Embedding(vocab_size, 128))\n",
    "\n",
    "### GRU layer\n",
    "### return_sequences: Whether to return the last output in the output sequence, or the full sequence.\n",
    "model.add(layers.GRU(128,  return_sequences=True))\n",
    "model.add(layers.Dropout(0.2))\n",
    "model.add(layers.GRU(128))\n",
    "model.add(layers.Dense(64, activation = 'relu'))\n",
    "model.add(layers.Dropout(0.2))\n",
    "\n",
    "model.add(layers.Dense(4, activation='softmax'))"
   ]
  },
  {
   "cell_type": "code",
   "execution_count": 30,
   "id": "5dfb1007",
   "metadata": {},
   "outputs": [
    {
     "name": "stdout",
     "output_type": "stream",
     "text": [
      "Model: \"sequential\"\n",
      "_________________________________________________________________\n",
      " Layer (type)                Output Shape              Param #   \n",
      "=================================================================\n",
      " embedding (Embedding)       (None, None, 128)         2966912   \n",
      "                                                                 \n",
      " gru (GRU)                   (None, None, 128)         99072     \n",
      "                                                                 \n",
      " dropout (Dropout)           (None, None, 128)         0         \n",
      "                                                                 \n",
      " gru_1 (GRU)                 (None, 128)               99072     \n",
      "                                                                 \n",
      " dense (Dense)               (None, 64)                8256      \n",
      "                                                                 \n",
      " dropout_1 (Dropout)         (None, 64)                0         \n",
      "                                                                 \n",
      " dense_1 (Dense)             (None, 4)                 260       \n",
      "                                                                 \n",
      "=================================================================\n",
      "Total params: 3173572 (12.11 MB)\n",
      "Trainable params: 3173572 (12.11 MB)\n",
      "Non-trainable params: 0 (0.00 Byte)\n",
      "_________________________________________________________________\n"
     ]
    }
   ],
   "source": [
    "model.summary()"
   ]
  },
  {
   "cell_type": "markdown",
   "id": "c4597e5a",
   "metadata": {},
   "source": [
    "### Compile the model"
   ]
  },
  {
   "cell_type": "code",
   "execution_count": 31,
   "id": "c6cce8d0",
   "metadata": {},
   "outputs": [],
   "source": [
    "model.compile(loss = 'categorical_crossentropy', optimizer = 'adam', metrics = ['accuracy'])"
   ]
  },
  {
   "cell_type": "markdown",
   "id": "afb8b6a5",
   "metadata": {},
   "source": [
    "### Train the model with our Training Set"
   ]
  },
  {
   "cell_type": "code",
   "execution_count": 32,
   "id": "855364a0",
   "metadata": {},
   "outputs": [
    {
     "name": "stdout",
     "output_type": "stream",
     "text": [
      "Epoch 1/10\n",
      "400/400 [==============================] - 94s 225ms/step - loss: 0.6198 - accuracy: 0.7581 - val_loss: 0.4041 - val_accuracy: 0.8672\n",
      "Epoch 2/10\n",
      "400/400 [==============================] - 88s 221ms/step - loss: 0.3013 - accuracy: 0.9035 - val_loss: 0.4324 - val_accuracy: 0.8612\n",
      "Epoch 3/10\n",
      "400/400 [==============================] - 415s 1s/step - loss: 0.2209 - accuracy: 0.9295 - val_loss: 0.4905 - val_accuracy: 0.8556\n",
      "Epoch 4/10\n",
      "400/400 [==============================] - 87s 219ms/step - loss: 0.1644 - accuracy: 0.9441 - val_loss: 0.5553 - val_accuracy: 0.8494\n",
      "Epoch 5/10\n",
      "400/400 [==============================] - 87s 219ms/step - loss: 0.1287 - accuracy: 0.9591 - val_loss: 0.5833 - val_accuracy: 0.8481\n",
      "Epoch 6/10\n",
      "400/400 [==============================] - 88s 220ms/step - loss: 0.0950 - accuracy: 0.9674 - val_loss: 0.7388 - val_accuracy: 0.8372\n",
      "Epoch 7/10\n",
      "400/400 [==============================] - 87s 217ms/step - loss: 0.0812 - accuracy: 0.9723 - val_loss: 0.7876 - val_accuracy: 0.8297\n",
      "Epoch 8/10\n",
      "400/400 [==============================] - 85s 214ms/step - loss: 0.0600 - accuracy: 0.9798 - val_loss: 0.8686 - val_accuracy: 0.8325\n",
      "Epoch 9/10\n",
      "400/400 [==============================] - 86s 215ms/step - loss: 0.0599 - accuracy: 0.9793 - val_loss: 0.9019 - val_accuracy: 0.8300\n",
      "Epoch 10/10\n",
      "400/400 [==============================] - 81s 204ms/step - loss: 0.0529 - accuracy: 0.9827 - val_loss: 0.9311 - val_accuracy: 0.8303\n"
     ]
    },
    {
     "data": {
      "text/plain": [
       "<keras.src.callbacks.History at 0x268205d97d0>"
      ]
     },
     "execution_count": 32,
     "metadata": {},
     "output_type": "execute_result"
    }
   ],
   "source": [
    "model.fit(X_train, y_train, epochs=10, validation_split = 0.2)"
   ]
  },
  {
   "cell_type": "markdown",
   "id": "d70c5388",
   "metadata": {},
   "source": [
    "### Make predictions with Test set"
   ]
  },
  {
   "cell_type": "code",
   "execution_count": 61,
   "id": "402a9f17",
   "metadata": {},
   "outputs": [
    {
     "name": "stdout",
     "output_type": "stream",
     "text": [
      "125/125 [==============================] - 12s 55ms/step\n"
     ]
    }
   ],
   "source": [
    "y_pred = model.predict(X_test)"
   ]
  },
  {
   "cell_type": "code",
   "execution_count": 62,
   "id": "75decae9",
   "metadata": {},
   "outputs": [],
   "source": [
    "y_pred = [np.argmax(i) for i in y_pred]"
   ]
  },
  {
   "cell_type": "code",
   "execution_count": 63,
   "id": "108c7e00",
   "metadata": {},
   "outputs": [],
   "source": [
    "y_test = [np.argmax(i) for i in y_test]"
   ]
  },
  {
   "cell_type": "markdown",
   "id": "30229689",
   "metadata": {},
   "source": [
    "### Check accuracy score"
   ]
  },
  {
   "cell_type": "code",
   "execution_count": 65,
   "id": "6f9323a6",
   "metadata": {},
   "outputs": [
    {
     "data": {
      "text/plain": [
       "0.8405"
      ]
     },
     "execution_count": 65,
     "metadata": {},
     "output_type": "execute_result"
    }
   ],
   "source": [
    "accuracy_score(y_test, y_pred)"
   ]
  },
  {
   "cell_type": "markdown",
   "id": "5a39c920",
   "metadata": {},
   "source": [
    "### Confusion matrix"
   ]
  },
  {
   "cell_type": "code",
   "execution_count": 66,
   "id": "ceb3bd58",
   "metadata": {
    "scrolled": true
   },
   "outputs": [
    {
     "data": {
      "image/png": "[encoded data removed]",
      "text/plain": [
       "<Figure size 720x576 with 2 Axes>"
      ]
     },
     "metadata": {
      "needs_background": "light"
     },
     "output_type": "display_data"
    }
   ],
   "source": [
    "plt.figure(figsize = (10,8))\n",
    "sns.heatmap(confusion_matrix(y_test, y_pred), annot = True, fmt = 'd')\n",
    "plt.show()"
   ]
  },
  {
   "cell_type": "markdown",
   "id": "4e526365",
   "metadata": {},
   "source": [
    "### Classification Report"
   ]
  },
  {
   "cell_type": "code",
   "execution_count": 67,
   "id": "d16a8e33",
   "metadata": {},
   "outputs": [
    {
     "name": "stdout",
     "output_type": "stream",
     "text": [
      "              precision    recall  f1-score   support\n",
      "\n",
      "           0       0.82      0.88      0.85       996\n",
      "           1       0.92      0.94      0.93       997\n",
      "           2       0.83      0.74      0.78       997\n",
      "           3       0.79      0.80      0.80      1010\n",
      "\n",
      "    accuracy                           0.84      4000\n",
      "   macro avg       0.84      0.84      0.84      4000\n",
      "weighted avg       0.84      0.84      0.84      4000\n",
      "\n"
     ]
    }
   ],
   "source": [
    "print(classification_report(y_test, y_pred))"
   ]
  },
  {
   "cell_type": "markdown",
   "id": "868d86dc",
   "metadata": {},
   "source": [
    "***"
   ]
  }
 ],
 "metadata": {
  "kernelspec": {
   "display_name": "Python 3 (ipykernel)",
   "language": "python",
   "name": "python3"
  },
  "language_info": {
   "codemirror_mode": {
    "name": "ipython",
    "version": 3
   },
   "file_extension": ".py",
   "mimetype": "text/x-python",
   "name": "python",
   "nbconvert_exporter": "python",
   "pygments_lexer": "ipython3",
   "version": "3.11.5"
  }
 },
 "nbformat": 4,
 "nbformat_minor": 5
}
