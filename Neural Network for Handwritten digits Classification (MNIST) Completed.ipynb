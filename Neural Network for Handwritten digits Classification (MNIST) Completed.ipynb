{
 "cells": [
  {
   "cell_type": "markdown",
   "id": "21a3568b",
   "metadata": {},
   "source": [
    "# <span style = \"color:brown\"> Project - Handwritten Digits Classification </span>"
   ]
  },
  {
   "cell_type": "markdown",
   "id": "90f91e94",
   "metadata": {},
   "source": [
    "***"
   ]
  },
  {
   "cell_type": "markdown",
   "id": "3216a8d4",
   "metadata": {},
   "source": [
    "Keras is a powerful and easy-to-use free open source Python library for developing and evaluating Deep Learning models.\n",
    "\n",
    "It wraps the efficient numerical computation libaries Theano and TensorFlow and allows you to define and train neural network models in just a few lines of code.\n",
    "\n",
    "In this project, you will discover how to create your first deep learning neural network model in Python using TensorFlow and Keras."
   ]
  },
  {
   "cell_type": "markdown",
   "id": "ea4423e8",
   "metadata": {},
   "source": [
    "## Overview"
   ]
  },
  {
   "cell_type": "markdown",
   "id": "ad47d9fb",
   "metadata": {},
   "source": [
    "The steps covered in this project are as follows:"
   ]
  },
  {
   "cell_type": "markdown",
   "id": "d56ed611",
   "metadata": {},
   "source": [
    "1. Load Data\n",
    "2. Data Preprocessing\n",
    "3. Define Keras Model\n",
    "4. Compile Model\n",
    "5. Train the model\n",
    "6. Evaluate the model\n",
    "7. Make Predictions"
   ]
  },
  {
   "cell_type": "markdown",
   "id": "ef6a19d7",
   "metadata": {},
   "source": [
    "## About the dataset"
   ]
  },
  {
   "cell_type": "markdown",
   "id": "ae49584f",
   "metadata": {},
   "source": [
    "MNIST (\"Modified National Institute of Standards and Technology\") is the de facto “hello world” dataset of computer vision. Since its release in 1999, this classic dataset of handwritten images has served as the basis for benchmarking classification algorithms. As new machine learning techniques emerge, MNIST remains a reliable resource for researchers and learners alike."
   ]
  },
  {
   "cell_type": "markdown",
   "id": "dc12c488",
   "metadata": {},
   "source": [
    "Your goal is to correctly identify digits from a dataset of tens of thousands of handwritten images using neural networks"
   ]
  },
  {
   "cell_type": "markdown",
   "id": "5a181eb4",
   "metadata": {},
   "source": [
    "## Let us Begin"
   ]
  },
  {
   "cell_type": "markdown",
   "id": "f137fbcf",
   "metadata": {},
   "source": [
    "### Import necessary libraries"
   ]
  },
  {
   "cell_type": "code",
   "execution_count": 1,
   "id": "898f0b2f",
   "metadata": {},
   "outputs": [],
   "source": [
    "import tensorflow as tf\n",
    "from tensorflow import keras\n",
    "import numpy as np\n",
    "import pandas as pd\n",
    "import matplotlib.pyplot as plt\n",
    "import seaborn as sns\n",
    "from sklearn.model_selection import train_test_split\n",
    "from sklearn.metrics import confusion_matrix"
   ]
  },
  {
   "cell_type": "markdown",
   "id": "23c6aaed",
   "metadata": {},
   "source": [
    "### Read 'mnist.csv' dataset and store it in a DataFrame variable"
   ]
  },
  {
   "cell_type": "code",
   "execution_count": 2,
   "id": "c55780c9",
   "metadata": {},
   "outputs": [],
   "source": [
    "data = pd.read_csv('mnist.csv')"
   ]
  },
  {
   "cell_type": "markdown",
   "id": "3ce47fe2",
   "metadata": {},
   "source": [
    "### View the data"
   ]
  },
  {
   "cell_type": "code",
   "execution_count": 3,
   "id": "81160dbb",
   "metadata": {},
   "outputs": [
    {
     "data": {
      "text/html": [
       "<div>\n",
       "<style scoped>\n",
       "    .dataframe tbody tr th:only-of-type {\n",
       "        vertical-align: middle;\n",
       "    }\n",
       "\n",
       "    .dataframe tbody tr th {\n",
       "        vertical-align: top;\n",
       "    }\n",
       "\n",
       "    .dataframe thead th {\n",
       "        text-align: right;\n",
       "    }\n",
       "</style>\n",
       "<table border=\"1\" class=\"dataframe\">\n",
       "  <thead>\n",
       "    <tr style=\"text-align: right;\">\n",
       "      <th></th>\n",
       "      <th>label</th>\n",
       "      <th>pixel0</th>\n",
       "      <th>pixel1</th>\n",
       "      <th>pixel2</th>\n",
       "      <th>pixel3</th>\n",
       "      <th>pixel4</th>\n",
       "      <th>pixel5</th>\n",
       "      <th>pixel6</th>\n",
       "      <th>pixel7</th>\n",
       "      <th>pixel8</th>\n",
       "      <th>...</th>\n",
       "      <th>pixel774</th>\n",
       "      <th>pixel775</th>\n",
       "      <th>pixel776</th>\n",
       "      <th>pixel777</th>\n",
       "      <th>pixel778</th>\n",
       "      <th>pixel779</th>\n",
       "      <th>pixel780</th>\n",
       "      <th>pixel781</th>\n",
       "      <th>pixel782</th>\n",
       "      <th>pixel783</th>\n",
       "    </tr>\n",
       "  </thead>\n",
       "  <tbody>\n",
       "    <tr>\n",
       "      <th>0</th>\n",
       "      <td>1</td>\n",
       "      <td>0</td>\n",
       "      <td>0</td>\n",
       "      <td>0</td>\n",
       "      <td>0</td>\n",
       "      <td>0</td>\n",
       "      <td>0</td>\n",
       "      <td>0</td>\n",
       "      <td>0</td>\n",
       "      <td>0</td>\n",
       "      <td>...</td>\n",
       "      <td>0</td>\n",
       "      <td>0</td>\n",
       "      <td>0</td>\n",
       "      <td>0</td>\n",
       "      <td>0</td>\n",
       "      <td>0</td>\n",
       "      <td>0</td>\n",
       "      <td>0</td>\n",
       "      <td>0</td>\n",
       "      <td>0</td>\n",
       "    </tr>\n",
       "    <tr>\n",
       "      <th>1</th>\n",
       "      <td>0</td>\n",
       "      <td>0</td>\n",
       "      <td>0</td>\n",
       "      <td>0</td>\n",
       "      <td>0</td>\n",
       "      <td>0</td>\n",
       "      <td>0</td>\n",
       "      <td>0</td>\n",
       "      <td>0</td>\n",
       "      <td>0</td>\n",
       "      <td>...</td>\n",
       "      <td>0</td>\n",
       "      <td>0</td>\n",
       "      <td>0</td>\n",
       "      <td>0</td>\n",
       "      <td>0</td>\n",
       "      <td>0</td>\n",
       "      <td>0</td>\n",
       "      <td>0</td>\n",
       "      <td>0</td>\n",
       "      <td>0</td>\n",
       "    </tr>\n",
       "    <tr>\n",
       "      <th>2</th>\n",
       "      <td>1</td>\n",
       "      <td>0</td>\n",
       "      <td>0</td>\n",
       "      <td>0</td>\n",
       "      <td>0</td>\n",
       "      <td>0</td>\n",
       "      <td>0</td>\n",
       "      <td>0</td>\n",
       "      <td>0</td>\n",
       "      <td>0</td>\n",
       "      <td>...</td>\n",
       "      <td>0</td>\n",
       "      <td>0</td>\n",
       "      <td>0</td>\n",
       "      <td>0</td>\n",
       "      <td>0</td>\n",
       "      <td>0</td>\n",
       "      <td>0</td>\n",
       "      <td>0</td>\n",
       "      <td>0</td>\n",
       "      <td>0</td>\n",
       "    </tr>\n",
       "    <tr>\n",
       "      <th>3</th>\n",
       "      <td>4</td>\n",
       "      <td>0</td>\n",
       "      <td>0</td>\n",
       "      <td>0</td>\n",
       "      <td>0</td>\n",
       "      <td>0</td>\n",
       "      <td>0</td>\n",
       "      <td>0</td>\n",
       "      <td>0</td>\n",
       "      <td>0</td>\n",
       "      <td>...</td>\n",
       "      <td>0</td>\n",
       "      <td>0</td>\n",
       "      <td>0</td>\n",
       "      <td>0</td>\n",
       "      <td>0</td>\n",
       "      <td>0</td>\n",
       "      <td>0</td>\n",
       "      <td>0</td>\n",
       "      <td>0</td>\n",
       "      <td>0</td>\n",
       "    </tr>\n",
       "    <tr>\n",
       "      <th>4</th>\n",
       "      <td>0</td>\n",
       "      <td>0</td>\n",
       "      <td>0</td>\n",
       "      <td>0</td>\n",
       "      <td>0</td>\n",
       "      <td>0</td>\n",
       "      <td>0</td>\n",
       "      <td>0</td>\n",
       "      <td>0</td>\n",
       "      <td>0</td>\n",
       "      <td>...</td>\n",
       "      <td>0</td>\n",
       "      <td>0</td>\n",
       "      <td>0</td>\n",
       "      <td>0</td>\n",
       "      <td>0</td>\n",
       "      <td>0</td>\n",
       "      <td>0</td>\n",
       "      <td>0</td>\n",
       "      <td>0</td>\n",
       "      <td>0</td>\n",
       "    </tr>\n",
       "  </tbody>\n",
       "</table>\n",
       "<p>5 rows × 785 columns</p>\n",
       "</div>"
      ],
      "text/plain": [
       "   label  pixel0  pixel1  pixel2  pixel3  pixel4  pixel5  pixel6  pixel7  \\\n",
       "0      1       0       0       0       0       0       0       0       0   \n",
       "1      0       0       0       0       0       0       0       0       0   \n",
       "2      1       0       0       0       0       0       0       0       0   \n",
       "3      4       0       0       0       0       0       0       0       0   \n",
       "4      0       0       0       0       0       0       0       0       0   \n",
       "\n",
       "   pixel8  ...  pixel774  pixel775  pixel776  pixel777  pixel778  pixel779  \\\n",
       "0       0  ...         0         0         0         0         0         0   \n",
       "1       0  ...         0         0         0         0         0         0   \n",
       "2       0  ...         0         0         0         0         0         0   \n",
       "3       0  ...         0         0         0         0         0         0   \n",
       "4       0  ...         0         0         0         0         0         0   \n",
       "\n",
       "   pixel780  pixel781  pixel782  pixel783  \n",
       "0         0         0         0         0  \n",
       "1         0         0         0         0  \n",
       "2         0         0         0         0  \n",
       "3         0         0         0         0  \n",
       "4         0         0         0         0  \n",
       "\n",
       "[5 rows x 785 columns]"
      ]
     },
     "execution_count": 3,
     "metadata": {},
     "output_type": "execute_result"
    }
   ],
   "source": [
    "data.head()"
   ]
  },
  {
   "cell_type": "markdown",
   "id": "4bdd3598",
   "metadata": {},
   "source": [
    "### View the column names"
   ]
  },
  {
   "cell_type": "code",
   "execution_count": 4,
   "id": "903f6c1b",
   "metadata": {},
   "outputs": [
    {
     "data": {
      "text/plain": [
       "Index(['label', 'pixel0', 'pixel1', 'pixel2', 'pixel3', 'pixel4', 'pixel5',\n",
       "       'pixel6', 'pixel7', 'pixel8',\n",
       "       ...\n",
       "       'pixel774', 'pixel775', 'pixel776', 'pixel777', 'pixel778', 'pixel779',\n",
       "       'pixel780', 'pixel781', 'pixel782', 'pixel783'],\n",
       "      dtype='object', length=785)"
      ]
     },
     "execution_count": 4,
     "metadata": {},
     "output_type": "execute_result"
    }
   ],
   "source": [
    "data.columns"
   ]
  },
  {
   "cell_type": "markdown",
   "id": "9ce378da",
   "metadata": {},
   "source": [
    "### Check the shape of the data"
   ]
  },
  {
   "cell_type": "code",
   "execution_count": 5,
   "id": "4b65ac9c",
   "metadata": {},
   "outputs": [
    {
     "data": {
      "text/plain": [
       "(42000, 785)"
      ]
     },
     "execution_count": 5,
     "metadata": {},
     "output_type": "execute_result"
    }
   ],
   "source": [
    "data.shape"
   ]
  },
  {
   "cell_type": "markdown",
   "id": "5f12aa94",
   "metadata": {},
   "source": [
    "<b><i> Means that we have 42000 rows(images) and 785 columns </i></b>"
   ]
  },
  {
   "cell_type": "markdown",
   "id": "c396966a",
   "metadata": {},
   "source": [
    "### Split the data set into X and y variables (Input and target)"
   ]
  },
  {
   "cell_type": "code",
   "execution_count": 6,
   "id": "90d4dd22",
   "metadata": {},
   "outputs": [],
   "source": [
    "# Note that 'label' column in the dataset is our target"
   ]
  },
  {
   "cell_type": "code",
   "execution_count": 6,
   "id": "fd085538",
   "metadata": {},
   "outputs": [],
   "source": [
    "X = data.drop(columns = ['label'])\n",
    "y = data['label']"
   ]
  },
  {
   "cell_type": "markdown",
   "id": "a47b9503",
   "metadata": {},
   "source": [
    "### Check the shape of X and y"
   ]
  },
  {
   "cell_type": "code",
   "execution_count": 7,
   "id": "de42ade4",
   "metadata": {},
   "outputs": [
    {
     "data": {
      "text/plain": [
       "(42000, 784)"
      ]
     },
     "execution_count": 7,
     "metadata": {},
     "output_type": "execute_result"
    }
   ],
   "source": [
    "X.shape"
   ]
  },
  {
   "cell_type": "code",
   "execution_count": 8,
   "id": "d407e2aa",
   "metadata": {},
   "outputs": [
    {
     "data": {
      "text/plain": [
       "(42000,)"
      ]
     },
     "execution_count": 8,
     "metadata": {},
     "output_type": "execute_result"
    }
   ],
   "source": [
    "y.shape"
   ]
  },
  {
   "cell_type": "markdown",
   "id": "050a2bf1",
   "metadata": {},
   "source": [
    "### Reshape X to (len(X),28,28,1)"
   ]
  },
  {
   "cell_type": "code",
   "execution_count": 9,
   "id": "0e3119f7",
   "metadata": {},
   "outputs": [],
   "source": [
    "X = X.values.reshape((len(X),28,28,1))"
   ]
  },
  {
   "cell_type": "markdown",
   "id": "8aa11f76",
   "metadata": {},
   "source": [
    "### Check the shape of X"
   ]
  },
  {
   "cell_type": "code",
   "execution_count": 10,
   "id": "ce045bb8",
   "metadata": {},
   "outputs": [
    {
     "data": {
      "text/plain": [
       "(42000, 28, 28, 1)"
      ]
     },
     "execution_count": 10,
     "metadata": {},
     "output_type": "execute_result"
    }
   ],
   "source": [
    "X.shape"
   ]
  },
  {
   "cell_type": "markdown",
   "id": "dec61c00",
   "metadata": {},
   "source": [
    "The shape of X is (42000, 28,28,1)\n",
    "   * 42000 means that we have 42000 images\n",
    "   * 28 means that our image size is 28x28 pixels"
   ]
  },
  {
   "cell_type": "markdown",
   "id": "993c0587",
   "metadata": {},
   "source": [
    "### Normalise the data by dividing it by 255"
   ]
  },
  {
   "cell_type": "code",
   "execution_count": 11,
   "id": "4ddf83d2",
   "metadata": {},
   "outputs": [],
   "source": [
    "X = X/255"
   ]
  },
  {
   "cell_type": "markdown",
   "id": "fcc5b496",
   "metadata": {},
   "source": [
    "The pixel values can range from 0 to 256. Each number represents a color code.\n",
    "\n",
    "When using the image as it is and passing through a Deep Neural Network, the computation of high numeric values may become more complex.\n",
    "\n",
    "To reduce this we can normalize the values to range from 0 to 1.\n",
    "\n",
    "In this way, the numbers will be small and the computation becomes easier and faster.\n",
    "\n",
    "As the pixel values range from 0 to 256, apart from 0 the range is 255. So dividing all the values by 255 will convert it to range from 0 to 1."
   ]
  },
  {
   "cell_type": "markdown",
   "id": "6431ddf6",
   "metadata": {},
   "source": [
    "### Plot the first few digits"
   ]
  },
  {
   "cell_type": "code",
   "execution_count": 12,
   "id": "599d6609",
   "metadata": {},
   "outputs": [
    {
     "data": {
      "image/png": "[encoded data removed]",
      "text/plain": [
       "<Figure size 1600x800 with 21 Axes>"
      ]
     },
     "metadata": {},
     "output_type": "display_data"
    }
   ],
   "source": [
    "plt.figure(figsize = (16,8))\n",
    "for i in range(21):\n",
    "    plt.subplot(3,7,i+1)\n",
    "    plt.imshow(X[i])\n",
    "plt.tight_layout()"
   ]
  },
  {
   "cell_type": "markdown",
   "id": "1cdcf6e3",
   "metadata": {},
   "source": [
    "### Split the dataset into Training and Testing set"
   ]
  },
  {
   "cell_type": "code",
   "execution_count": 13,
   "id": "68507f3e",
   "metadata": {},
   "outputs": [],
   "source": [
    "X_train, X_test, y_train, y_test = train_test_split(X,y, test_size= 0.2)"
   ]
  },
  {
   "cell_type": "markdown",
   "id": "6b7aa71b",
   "metadata": {},
   "source": [
    "### Check the shape of X_train and X_test"
   ]
  },
  {
   "cell_type": "code",
   "execution_count": 14,
   "id": "a776b684",
   "metadata": {},
   "outputs": [
    {
     "data": {
      "text/plain": [
       "(33600, 28, 28, 1)"
      ]
     },
     "execution_count": 14,
     "metadata": {},
     "output_type": "execute_result"
    }
   ],
   "source": [
    "X_train.shape"
   ]
  },
  {
   "cell_type": "code",
   "execution_count": 15,
   "id": "2d8de67c",
   "metadata": {},
   "outputs": [
    {
     "data": {
      "text/plain": [
       "(8400, 28, 28, 1)"
      ]
     },
     "execution_count": 15,
     "metadata": {},
     "output_type": "execute_result"
    }
   ],
   "source": [
    "X_test.shape"
   ]
  },
  {
   "cell_type": "markdown",
   "id": "6d00712c",
   "metadata": {},
   "source": [
    "## Create a Keras Sequential model"
   ]
  },
  {
   "cell_type": "markdown",
   "id": "6d38d844",
   "metadata": {},
   "source": [
    "Models in Keras are defined as a sequence of layers.\n",
    "\n",
    "We create a Sequential model and add layers one at a time until we are happy with our network architecture.\n",
    "\n",
    "The first thing to get right is to ensure the input layers has the right number of input features. This can be specified when creating the first layer with the <b>input_shape</b> argument.\n",
    "\n",
    "How do we know the number of layers and their types?\n",
    "\n",
    "This is a very hard question. There are heuristics that we can use and often the best network structure is found through a process of trial and error experimentation. Generally, you need a network large enough to capture the structure of the program.\n",
    "\n",
    "In this Project, we will use a fully-connected network structure with 2 layers.\n",
    "\n",
    "Fully connected layers are defined using the <b>Dense</b> class. We can specify the number of neurons or nodes in the first argument, and specify the activation function using the <b>activation</b> argument.\n",
    "\n",
    "Use <b>Flatten</b> to reshape the array to such a shape which is equal to the number of elements present in the array. We have the output of a layer of shape(42000, 28,28,1), Flatten will unstack all the array values into a 1-D array with shape (42000*28*28*1)\n",
    "\n",
    "We will use the Rectified linear unit activation function referred to as ReLU on the first layer and the Sigmoid function in the output layer.\n",
    "\n",
    "It used to be case that sigmoid and Tanh activation functions were preferred for all layers. These days, better performance is achieved using the ReLU activation function. We use a sigmoid on the output layer to ensure out network output is between 0 and 1 and easy to map to either a probability of class or snap to a hard classification of either class with a default threshold of 0.5.\n",
    "\n",
    "We can piece it all together by adding each layer:\n",
    "* Reshape the array to such a shape which is equal to the number of elements present in the array.\n",
    "* The first layer has 100 nodes and uses the relu activation function.\n",
    "* The output layer has 10 node and uses the sigmoid activation function(10 nodes is used here because we have 10 classification for handwritten digits)"
   ]
  },
  {
   "cell_type": "code",
   "execution_count": 16,
   "id": "30e79802",
   "metadata": {},
   "outputs": [],
   "source": [
    "model = keras.Sequential([\n",
    "                  keras.layers.Flatten(input_shape = (28,28)),\n",
    "                  keras.layers.Dense(100, activation=\"relu\"),\n",
    "                  keras.layers.Dense(10,activation=\"sigmoid\")\n",
    "])"
   ]
  },
  {
   "cell_type": "markdown",
   "id": "525bb537",
   "metadata": {},
   "source": [
    "### Compile Keras Model"
   ]
  },
  {
   "cell_type": "markdown",
   "id": "8374a573",
   "metadata": {},
   "source": [
    "Now that the model is defined, we can compile it.\n",
    "\n",
    "Compiling the model uses the efficient numerical libraries under the covers(the so-called backend) such as TensorFlow. The backend automatically chooses the best way to represent the network for training and making predictions to run on your hardware, such as CPU or GPU or even distributed.\n",
    "\n",
    "When compiling, we must specify some additional properties required when training the network. Remember training a network means finding the best set of weights to map inputs to outputs in our dataset.\n",
    "\n",
    "We must specify the <b>loss</b> funcition to use to evaluate a set of weights, the optimizer is used to search through different weights for the network and any optional metrics we would like to collect and report during the training. In this case, we will use 'sparse_categorical_crossentropy' as the loss argument. Use this crossentropy loss function when there are two or more label classes.\n",
    "\n",
    "We will define the <b>optimizer</b> as the efficient stochastic gradient descent algorithm \"<b>adam</b>\".This is a popular version of gradient descent because it automatically tunes itself and gives good results in a wide range of problems. \n",
    "\n",
    "Finally, because it is a classification problem, we will collect and report the classification accuracy, defined via the <b>metrics</b> argument."
   ]
  },
  {
   "cell_type": "code",
   "execution_count": 17,
   "id": "23569566",
   "metadata": {},
   "outputs": [],
   "source": [
    "model.compile(optimizer = 'adam', loss = 'sparse_categorical_crossentropy',metrics = ['accuracy'])"
   ]
  },
  {
   "cell_type": "markdown",
   "id": "cda71bd9",
   "metadata": {},
   "source": [
    "### Check the summary of our model"
   ]
  },
  {
   "cell_type": "code",
   "execution_count": 18,
   "id": "2b9c3107",
   "metadata": {},
   "outputs": [
    {
     "name": "stdout",
     "output_type": "stream",
     "text": [
      "Model: \"sequential\"\n",
      "_________________________________________________________________\n",
      " Layer (type)                Output Shape              Param #   \n",
      "=================================================================\n",
      " flatten (Flatten)           (None, 784)               0         \n",
      "                                                                 \n",
      " dense (Dense)               (None, 100)               78500     \n",
      "                                                                 \n",
      " dense_1 (Dense)             (None, 10)                1010      \n",
      "                                                                 \n",
      "=================================================================\n",
      "Total params: 79510 (310.59 KB)\n",
      "Trainable params: 79510 (310.59 KB)\n",
      "Non-trainable params: 0 (0.00 Byte)\n",
      "_________________________________________________________________\n"
     ]
    }
   ],
   "source": [
    "model.summary()"
   ]
  },
  {
   "cell_type": "markdown",
   "id": "eec5724b",
   "metadata": {},
   "source": [
    "### Fit Keras Model"
   ]
  },
  {
   "cell_type": "markdown",
   "id": "1451af2b",
   "metadata": {},
   "source": [
    "We have defined our model and compiled it ready for efficient computation.\n",
    "\n",
    "Now it is time to execute the model on some data.\n",
    "\n",
    "We can train our model on our loaded data by calling the fit() function on the model.\n",
    "\n",
    "Training occurs over <b>epochs</b> and each epoch is split into batches.\n",
    "\n",
    " * Epoch: One pass though all of the rows in the training dataset.\n",
    " * Batch: One or more samples considered by the model within an epoch weights are updated.It is selected with <b>batch_size</b> argument.\n",
    " \n",
    "One epoch is comprised of one or more batches, based on the chosen batch size and the model is fit for many epochs.\n",
    "\n",
    "<b>validation_split</b>: Fraction of the training data to be used as validation data.The model will set apart this fraction of the training data, will not train on it, and will evaluate the loss and any model metrics on this data at end of each epoch."
   ]
  },
  {
   "cell_type": "code",
   "execution_count": 19,
   "id": "858168db",
   "metadata": {},
   "outputs": [
    {
     "name": "stdout",
     "output_type": "stream",
     "text": [
      "Epoch 1/5\n",
      "1596/1596 [==============================] - 4s 2ms/step - loss: 0.3182 - accuracy: 0.9076 - val_loss: 0.2085 - val_accuracy: 0.9393\n",
      "Epoch 2/5\n",
      "1596/1596 [==============================] - 3s 2ms/step - loss: 0.1421 - accuracy: 0.9583 - val_loss: 0.1398 - val_accuracy: 0.9589\n",
      "Epoch 3/5\n",
      "1596/1596 [==============================] - 3s 2ms/step - loss: 0.1004 - accuracy: 0.9689 - val_loss: 0.1351 - val_accuracy: 0.9595\n",
      "Epoch 4/5\n",
      "1596/1596 [==============================] - 3s 2ms/step - loss: 0.0730 - accuracy: 0.9782 - val_loss: 0.1055 - val_accuracy: 0.9673\n",
      "Epoch 5/5\n",
      "1596/1596 [==============================] - 3s 2ms/step - loss: 0.0552 - accuracy: 0.9822 - val_loss: 0.1097 - val_accuracy: 0.9732\n"
     ]
    },
    {
     "data": {
      "text/plain": [
       "<keras.src.callbacks.History at 0x18d49c8eb50>"
      ]
     },
     "execution_count": 19,
     "metadata": {},
     "output_type": "execute_result"
    }
   ],
   "source": [
    "model.fit(X_train,y_train, epochs = 5, validation_split=0.05, batch_size = 20)"
   ]
  },
  {
   "cell_type": "markdown",
   "id": "4da08e40",
   "metadata": {},
   "source": [
    "### Evaluate Keras Model"
   ]
  },
  {
   "cell_type": "markdown",
   "id": "4ce74383",
   "metadata": {},
   "source": [
    "We have trained our nerual network on the entire dataset and we can evaluate the performance of the network on the same dataset.\n",
    "\n",
    "This will only give us an idea of how well we have modeled the dataset(eg. train accuracy), but no idea of how well the algorithm might perform on new data.\n",
    "\n",
    "You can evaluate your model on your training dataset using the evaluate() function on your model and pass it the same input and output used to train the model.\n",
    "\n",
    "This will generate a prediction for each input and output pairs and collect scores, including average loss and any metrics you have configured, such as accuracy."
   ]
  },
  {
   "cell_type": "code",
   "execution_count": 20,
   "id": "2273ef90",
   "metadata": {},
   "outputs": [
    {
     "name": "stdout",
     "output_type": "stream",
     "text": [
      "1050/1050 [==============================] - 2s 2ms/step - loss: 0.0518 - accuracy: 0.9837\n"
     ]
    },
    {
     "data": {
      "text/plain": [
       "[0.05176244303584099, 0.9836606979370117]"
      ]
     },
     "execution_count": 20,
     "metadata": {},
     "output_type": "execute_result"
    }
   ],
   "source": [
    "model.evaluate(X_train, y_train)"
   ]
  },
  {
   "cell_type": "markdown",
   "id": "1fda7235",
   "metadata": {},
   "source": [
    "### Make predicitons using X_test and store it in a variable"
   ]
  },
  {
   "cell_type": "markdown",
   "id": "ba14716b",
   "metadata": {},
   "source": [
    "Making predictions is as easy as calling the <b>predict</b> function on the model. We are using a sigmoid activation function on the output layer, so the predicitons will be a probability in the range between 0 and 1 for all classifications."
   ]
  },
  {
   "cell_type": "code",
   "execution_count": 21,
   "id": "25f5103f",
   "metadata": {},
   "outputs": [
    {
     "name": "stdout",
     "output_type": "stream",
     "text": [
      "263/263 [==============================] - 0s 1ms/step\n"
     ]
    }
   ],
   "source": [
    "prediction = model.predict(X_test)"
   ]
  },
  {
   "cell_type": "markdown",
   "id": "23c23f83",
   "metadata": {},
   "source": [
    "### View prediciton"
   ]
  },
  {
   "cell_type": "code",
   "execution_count": 22,
   "id": "507c46cc",
   "metadata": {},
   "outputs": [
    {
     "data": {
      "text/plain": [
       "array([[6.1685108e-02, 2.4174063e-02, 9.9999988e-01, ..., 4.9497611e-03,\n",
       "        7.2907090e-01, 3.6482534e-06],\n",
       "       [6.0063954e-02, 2.8161593e-03, 9.9993217e-01, ..., 4.4865984e-01,\n",
       "        2.6143318e-02, 4.2075831e-03],\n",
       "       [2.1573787e-03, 5.0699955e-01, 1.6905174e-02, ..., 1.3826330e-02,\n",
       "        2.6539948e-02, 4.5798263e-01],\n",
       "       ...,\n",
       "       [1.0000000e+00, 3.7992697e-05, 2.3356634e-01, ..., 2.9979870e-01,\n",
       "        4.7722794e-03, 3.4834418e-02],\n",
       "       [4.3540866e-05, 9.9982482e-01, 1.8458089e-03, ..., 1.6332166e-01,\n",
       "        6.5806694e-02, 1.6787299e-03],\n",
       "       [9.9997652e-01, 2.7091973e-03, 9.6254003e-01, ..., 5.3976011e-02,\n",
       "        7.0493273e-02, 5.1834144e-02]], dtype=float32)"
      ]
     },
     "execution_count": 22,
     "metadata": {},
     "output_type": "execute_result"
    }
   ],
   "source": [
    "prediction"
   ]
  },
  {
   "cell_type": "markdown",
   "id": "4e811240",
   "metadata": {},
   "source": [
    "##### Each element in the array consist of probalibily of each classification. We can check the maximum of each element with a numpy funciton called argmax()"
   ]
  },
  {
   "cell_type": "markdown",
   "id": "f04ce54a",
   "metadata": {},
   "source": [
    "### Check the first predicted value and plot the corresponding data"
   ]
  },
  {
   "cell_type": "code",
   "execution_count": 23,
   "id": "c00dc2c7",
   "metadata": {},
   "outputs": [
    {
     "data": {
      "text/plain": [
       "2"
      ]
     },
     "execution_count": 23,
     "metadata": {},
     "output_type": "execute_result"
    }
   ],
   "source": [
    "np.argmax(prediction[0])"
   ]
  },
  {
   "cell_type": "code",
   "execution_count": 24,
   "id": "596a436d",
   "metadata": {},
   "outputs": [
    {
     "data": {
      "text/plain": [
       "<matplotlib.image.AxesImage at 0x18d0fc195d0>"
      ]
     },
     "execution_count": 24,
     "metadata": {},
     "output_type": "execute_result"
    },
    {
     "data": {
      "image/png": "[encoded data removed]",
      "text/plain": [
       "<Figure size 640x480 with 1 Axes>"
      ]
     },
     "metadata": {},
     "output_type": "display_data"
    }
   ],
   "source": [
    "plt.imshow(X_test[0])"
   ]
  },
  {
   "cell_type": "markdown",
   "id": "60c8f242",
   "metadata": {},
   "source": [
    "### Store all the predicted values as numbers in a list"
   ]
  },
  {
   "cell_type": "markdown",
   "id": "c92384ae",
   "metadata": {},
   "source": [
    "##### Use list comprehension to achieve this task"
   ]
  },
  {
   "cell_type": "code",
   "execution_count": 25,
   "id": "338764fe",
   "metadata": {},
   "outputs": [],
   "source": [
    "predicted_values = [np.argmax(i) for i in prediction]"
   ]
  },
  {
   "cell_type": "markdown",
   "id": "92da28f3",
   "metadata": {},
   "source": [
    "### Plot the accuracy of our prediction"
   ]
  },
  {
   "cell_type": "code",
   "execution_count": 26,
   "id": "a621245a",
   "metadata": {},
   "outputs": [
    {
     "data": {
      "image/png": "[encoded data removed]",
      "text/plain": [
       "<Figure size 800x600 with 1 Axes>"
      ]
     },
     "metadata": {},
     "output_type": "display_data"
    }
   ],
   "source": [
    "c = range(len(predicted_values))\n",
    "plt.figure(figsize = (8,6))\n",
    "plt.plot(c[:50], predicted_values[:50], color = 'blue')\n",
    "plt.plot(c[:50], y_test[:50], color = 'green')\n",
    "plt.legend(['Predicted', 'Actual'])\n",
    "plt.show()"
   ]
  },
  {
   "cell_type": "markdown",
   "id": "889e2356",
   "metadata": {},
   "source": [
    "### Plot confusion matrix using heatmap"
   ]
  },
  {
   "cell_type": "code",
   "execution_count": 28,
   "id": "f5b57cb9",
   "metadata": {},
   "outputs": [
    {
     "data": {
      "text/plain": [
       "Text(70.72222222222221, 0.5, 'Actual Values')"
      ]
     },
     "execution_count": 28,
     "metadata": {},
     "output_type": "execute_result"
    },
    {
     "data": {
      "image/png": "[encoded data removed]",
      "text/plain": [
       "<Figure size 800x600 with 2 Axes>"
      ]
     },
     "metadata": {},
     "output_type": "display_data"
    }
   ],
   "source": [
    "plt.figure(figsize = (8,6))\n",
    "sns.heatmap(confusion_matrix(y_test,predicted_values), annot = True, fmt = 'd')\n",
    "plt.xlabel('Predicted Values')\n",
    "plt.ylabel('Actual Values')"
   ]
  },
  {
   "cell_type": "markdown",
   "id": "7551ab9b",
   "metadata": {},
   "source": [
    "***"
   ]
  },
  {
   "cell_type": "markdown",
   "id": "11474cf9",
   "metadata": {},
   "source": [
    "***"
   ]
  },
  {
   "cell_type": "code",
   "execution_count": null,
   "id": "7a1260b2",
   "metadata": {},
   "outputs": [],
   "source": []
  },
  {
   "cell_type": "code",
   "execution_count": null,
   "id": "9989558d",
   "metadata": {},
   "outputs": [],
   "source": []
  }
 ],
 "metadata": {
  "kernelspec": {
   "display_name": "Python 3 (ipykernel)",
   "language": "python",
   "name": "python3"
  },
  "language_info": {
   "codemirror_mode": {
    "name": "ipython",
    "version": 3
   },
   "file_extension": ".py",
   "mimetype": "text/x-python",
   "name": "python",
   "nbconvert_exporter": "python",
   "pygments_lexer": "ipython3",
   "version": "3.11.5"
  }
 },
 "nbformat": 4,
 "nbformat_minor": 5
}
