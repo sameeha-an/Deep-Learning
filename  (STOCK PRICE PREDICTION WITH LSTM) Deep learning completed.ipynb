{
 "cells": [
  {
   "cell_type": "markdown",
   "id": "8fa67f60",
   "metadata": {},
   "source": [
    "# <span style = \"color:green\"> Implementing LSTM neural network with TensorFlow Keras </span>"
   ]
  },
  {
   "cell_type": "markdown",
   "id": "a61d5c86",
   "metadata": {},
   "source": [
    "***"
   ]
  },
  {
   "cell_type": "markdown",
   "id": "9495b6a5",
   "metadata": {},
   "source": [
    "Here, we will use the stock price dataset to build an LSTM in keras that will predict if the stock will go up or down."
   ]
  },
  {
   "cell_type": "markdown",
   "id": "38f10aed",
   "metadata": {},
   "source": [
    "### Import necessary libraries"
   ]
  },
  {
   "cell_type": "code",
   "execution_count": 1,
   "id": "8eade8ce",
   "metadata": {},
   "outputs": [],
   "source": [
    "import numpy as np\n",
    "import pandas as pd\n",
    "import matplotlib.pyplot as plt\n",
    "import seaborn as sns"
   ]
  },
  {
   "cell_type": "markdown",
   "id": "4d06dabd",
   "metadata": {},
   "source": [
    "### Read 'tatatrain.csv'"
   ]
  },
  {
   "cell_type": "code",
   "execution_count": 2,
   "id": "4341a1a2",
   "metadata": {},
   "outputs": [],
   "source": [
    "train = pd.read_csv('tatatrain.csv')"
   ]
  },
  {
   "cell_type": "markdown",
   "id": "42569dae",
   "metadata": {},
   "source": [
    "### View head"
   ]
  },
  {
   "cell_type": "code",
   "execution_count": 3,
   "id": "0fc2afe0",
   "metadata": {},
   "outputs": [
    {
     "data": {
      "text/html": [
       "<div>\n",
       "<style scoped>\n",
       "    .dataframe tbody tr th:only-of-type {\n",
       "        vertical-align: middle;\n",
       "    }\n",
       "\n",
       "    .dataframe tbody tr th {\n",
       "        vertical-align: top;\n",
       "    }\n",
       "\n",
       "    .dataframe thead th {\n",
       "        text-align: right;\n",
       "    }\n",
       "</style>\n",
       "<table border=\"1\" class=\"dataframe\">\n",
       "  <thead>\n",
       "    <tr style=\"text-align: right;\">\n",
       "      <th></th>\n",
       "      <th>Date</th>\n",
       "      <th>Open</th>\n",
       "      <th>High</th>\n",
       "      <th>Low</th>\n",
       "      <th>Last</th>\n",
       "      <th>Close</th>\n",
       "      <th>Total Trade Quantity</th>\n",
       "      <th>Turnover (Lacs)</th>\n",
       "    </tr>\n",
       "  </thead>\n",
       "  <tbody>\n",
       "    <tr>\n",
       "      <th>0</th>\n",
       "      <td>2018-09-28</td>\n",
       "      <td>234.05</td>\n",
       "      <td>235.95</td>\n",
       "      <td>230.20</td>\n",
       "      <td>233.50</td>\n",
       "      <td>233.75</td>\n",
       "      <td>3069914</td>\n",
       "      <td>7162.35</td>\n",
       "    </tr>\n",
       "    <tr>\n",
       "      <th>1</th>\n",
       "      <td>2018-09-27</td>\n",
       "      <td>234.55</td>\n",
       "      <td>236.80</td>\n",
       "      <td>231.10</td>\n",
       "      <td>233.80</td>\n",
       "      <td>233.25</td>\n",
       "      <td>5082859</td>\n",
       "      <td>11859.95</td>\n",
       "    </tr>\n",
       "    <tr>\n",
       "      <th>2</th>\n",
       "      <td>2018-09-26</td>\n",
       "      <td>240.00</td>\n",
       "      <td>240.00</td>\n",
       "      <td>232.50</td>\n",
       "      <td>235.00</td>\n",
       "      <td>234.25</td>\n",
       "      <td>2240909</td>\n",
       "      <td>5248.60</td>\n",
       "    </tr>\n",
       "    <tr>\n",
       "      <th>3</th>\n",
       "      <td>2018-09-25</td>\n",
       "      <td>233.30</td>\n",
       "      <td>236.75</td>\n",
       "      <td>232.00</td>\n",
       "      <td>236.25</td>\n",
       "      <td>236.10</td>\n",
       "      <td>2349368</td>\n",
       "      <td>5503.90</td>\n",
       "    </tr>\n",
       "    <tr>\n",
       "      <th>4</th>\n",
       "      <td>2018-09-24</td>\n",
       "      <td>233.55</td>\n",
       "      <td>239.20</td>\n",
       "      <td>230.75</td>\n",
       "      <td>234.00</td>\n",
       "      <td>233.30</td>\n",
       "      <td>3423509</td>\n",
       "      <td>7999.55</td>\n",
       "    </tr>\n",
       "  </tbody>\n",
       "</table>\n",
       "</div>"
      ],
      "text/plain": [
       "         Date    Open    High     Low    Last   Close  Total Trade Quantity  \\\n",
       "0  2018-09-28  234.05  235.95  230.20  233.50  233.75               3069914   \n",
       "1  2018-09-27  234.55  236.80  231.10  233.80  233.25               5082859   \n",
       "2  2018-09-26  240.00  240.00  232.50  235.00  234.25               2240909   \n",
       "3  2018-09-25  233.30  236.75  232.00  236.25  236.10               2349368   \n",
       "4  2018-09-24  233.55  239.20  230.75  234.00  233.30               3423509   \n",
       "\n",
       "   Turnover (Lacs)  \n",
       "0          7162.35  \n",
       "1         11859.95  \n",
       "2          5248.60  \n",
       "3          5503.90  \n",
       "4          7999.55  "
      ]
     },
     "execution_count": 3,
     "metadata": {},
     "output_type": "execute_result"
    }
   ],
   "source": [
    "train.head()"
   ]
  },
  {
   "cell_type": "markdown",
   "id": "6c7df976",
   "metadata": {},
   "source": [
    "### Check the shape of the dataset"
   ]
  },
  {
   "cell_type": "code",
   "execution_count": 4,
   "id": "867b3213",
   "metadata": {},
   "outputs": [
    {
     "data": {
      "text/plain": [
       "(2035, 8)"
      ]
     },
     "execution_count": 4,
     "metadata": {},
     "output_type": "execute_result"
    }
   ],
   "source": [
    "train.shape"
   ]
  },
  {
   "cell_type": "markdown",
   "id": "0dc165c6",
   "metadata": {},
   "source": [
    "### We only need 'Open' feature in our dataset, Remove the rest"
   ]
  },
  {
   "cell_type": "markdown",
   "id": "57740faa",
   "metadata": {},
   "source": [
    "Open column represent the starting price of the stock for the day"
   ]
  },
  {
   "cell_type": "code",
   "execution_count": 5,
   "id": "3c2469a6",
   "metadata": {},
   "outputs": [],
   "source": [
    "train_data = train[['Open']]"
   ]
  },
  {
   "cell_type": "markdown",
   "id": "b8ae6877",
   "metadata": {},
   "source": [
    "### Plot Open price "
   ]
  },
  {
   "cell_type": "code",
   "execution_count": 6,
   "id": "4c39cf7b",
   "metadata": {},
   "outputs": [
    {
     "data": {
      "text/plain": [
       "[<matplotlib.lines.Line2D at 0x1abf84abe10>]"
      ]
     },
     "execution_count": 6,
     "metadata": {},
     "output_type": "execute_result"
    },
    {
     "data": {
      "image/png": "[encoded data removed]",
      "text/plain": [
       "<Figure size 640x480 with 1 Axes>"
      ]
     },
     "metadata": {},
     "output_type": "display_data"
    }
   ],
   "source": [
    "plt.plot(train_data)"
   ]
  },
  {
   "cell_type": "markdown",
   "id": "41ca4a71",
   "metadata": {},
   "source": [
    "### Scale the data with MinMaxScaler"
   ]
  },
  {
   "cell_type": "markdown",
   "id": "91b09a82",
   "metadata": {},
   "source": [
    "To produce the best-optimized results with the models, we are required to scale the data, For this task, we are leveraging scikit-learn library's minmax scaler for converting the input values betweeen 0 to 1."
   ]
  },
  {
   "cell_type": "code",
   "execution_count": 7,
   "id": "583a4224",
   "metadata": {},
   "outputs": [],
   "source": [
    "from sklearn.preprocessing import MinMaxScaler"
   ]
  },
  {
   "cell_type": "code",
   "execution_count": 8,
   "id": "efecf72d",
   "metadata": {},
   "outputs": [],
   "source": [
    "scaler = MinMaxScaler()"
   ]
  },
  {
   "cell_type": "code",
   "execution_count": 9,
   "id": "5df862a7",
   "metadata": {},
   "outputs": [],
   "source": [
    "train_data = scaler.fit_transform(train_data)"
   ]
  },
  {
   "cell_type": "markdown",
   "id": "093d3efd",
   "metadata": {},
   "source": [
    "### Plot the open prices after scaling"
   ]
  },
  {
   "cell_type": "code",
   "execution_count": 10,
   "id": "a5387b48",
   "metadata": {},
   "outputs": [
    {
     "data": {
      "text/plain": [
       "[<matplotlib.lines.Line2D at 0x1abf30cb650>]"
      ]
     },
     "execution_count": 10,
     "metadata": {},
     "output_type": "execute_result"
    },
    {
     "data": {
      "image/png": "[encoded data removed]",
      "text/plain": [
       "<Figure size 640x480 with 1 Axes>"
      ]
     },
     "metadata": {},
     "output_type": "display_data"
    }
   ],
   "source": [
    "plt.plot(train_data)"
   ]
  },
  {
   "cell_type": "markdown",
   "id": "79763758",
   "metadata": {},
   "source": [
    "### Creating data with Timesteps"
   ]
  },
  {
   "cell_type": "markdown",
   "id": "19649449",
   "metadata": {},
   "source": [
    "When we are working with LSTM's, we need to keep the data in a specific format. Once the data is created in the form of 60 timesteps, we can then convert it into a Numpy array. Finally, the data is converted to a 3 dimensional array, 60 timeframes, and also one feature at each step."
   ]
  },
  {
   "cell_type": "code",
   "execution_count": 11,
   "id": "64c2738d",
   "metadata": {},
   "outputs": [
    {
     "data": {
      "text/plain": [
       "2035"
      ]
     },
     "execution_count": 11,
     "metadata": {},
     "output_type": "execute_result"
    }
   ],
   "source": [
    "len(train_data)"
   ]
  },
  {
   "cell_type": "code",
   "execution_count": 12,
   "id": "b0ed179b",
   "metadata": {},
   "outputs": [],
   "source": [
    "X = []\n",
    "y = []\n",
    "\n",
    "for i in range(60, 2035):\n",
    "    X.append(train_data[i-60:i,0])\n",
    "    y.append(train_data[i,0])\n",
    "    \n",
    "X = np.array(X)\n",
    "y = np.array(y)"
   ]
  },
  {
   "cell_type": "code",
   "execution_count": 13,
   "id": "8934ecf3",
   "metadata": {},
   "outputs": [],
   "source": [
    "X = X.reshape((X.shape[0], X.shape[1],1))"
   ]
  },
  {
   "cell_type": "markdown",
   "id": "07e4e483",
   "metadata": {},
   "source": [
    "### Split the dataset into training and testing set"
   ]
  },
  {
   "cell_type": "code",
   "execution_count": 14,
   "id": "61bfe470",
   "metadata": {},
   "outputs": [],
   "source": [
    "X_train = X[0:1700]\n",
    "X_test = X[1700:]\n",
    "\n",
    "y_train = y[0:1700]\n",
    "y_test = y[1700:]"
   ]
  },
  {
   "cell_type": "markdown",
   "id": "6178995a",
   "metadata": {},
   "source": [
    "### Check the shape of X_train"
   ]
  },
  {
   "cell_type": "code",
   "execution_count": 15,
   "id": "0e0c8fe8",
   "metadata": {},
   "outputs": [
    {
     "data": {
      "text/plain": [
       "(1700, 60, 1)"
      ]
     },
     "execution_count": 15,
     "metadata": {},
     "output_type": "execute_result"
    }
   ],
   "source": [
    "X_train.shape"
   ]
  },
  {
   "cell_type": "markdown",
   "id": "091cab02",
   "metadata": {},
   "source": [
    "### Import Sequential and layers from Keras"
   ]
  },
  {
   "cell_type": "code",
   "execution_count": 16,
   "id": "dd4fb228",
   "metadata": {},
   "outputs": [],
   "source": [
    "from tensorflow.keras import Sequential, layers"
   ]
  },
  {
   "cell_type": "markdown",
   "id": "d388b57a",
   "metadata": {},
   "source": [
    "### Building an LSTM model with Keras"
   ]
  },
  {
   "cell_type": "markdown",
   "id": "f71e8df3",
   "metadata": {},
   "source": [
    "First, we add the keras LSTM layer, and following this, we add dropout layers for prevention against overfitting.\n",
    "\n",
    "For the LSTM layer, we add 50 units that represent the dimensionality of outer space. The return_sequences parameter is set to true for returning the last output in output.\n",
    "\n",
    "For addding dropout layers, we specify the percentage of layers that should be dropped. The next step is to add the dense layer."
   ]
  },
  {
   "cell_type": "code",
   "execution_count": 17,
   "id": "42ff5b33",
   "metadata": {},
   "outputs": [],
   "source": [
    "model = Sequential()\n",
    "\n",
    "model.add(layers.LSTM(50, return_sequences = True, input_shape = (X_train.shape[1],1)))\n",
    "model.add(layers.Dropout(0.2))\n",
    "\n",
    "model.add(layers.LSTM(50, return_sequences = True))\n",
    "model.add(layers.Dropout(0.2))\n",
    "\n",
    "model.add(layers.LSTM(50))\n",
    "model.add(layers.Dropout(0.2))\n",
    "\n",
    "model.add(layers.Dense(1))"
   ]
  },
  {
   "cell_type": "markdown",
   "id": "873a62dc",
   "metadata": {},
   "source": [
    "### Check the summary of our model"
   ]
  },
  {
   "cell_type": "code",
   "execution_count": 18,
   "id": "861fa666",
   "metadata": {},
   "outputs": [
    {
     "name": "stdout",
     "output_type": "stream",
     "text": [
      "Model: \"sequential\"\n",
      "_________________________________________________________________\n",
      " Layer (type)                Output Shape              Param #   \n",
      "=================================================================\n",
      " lstm (LSTM)                 (None, 60, 50)            10400     \n",
      "                                                                 \n",
      " dropout (Dropout)           (None, 60, 50)            0         \n",
      "                                                                 \n",
      " lstm_1 (LSTM)               (None, 60, 50)            20200     \n",
      "                                                                 \n",
      " dropout_1 (Dropout)         (None, 60, 50)            0         \n",
      "                                                                 \n",
      " lstm_2 (LSTM)               (None, 50)                20200     \n",
      "                                                                 \n",
      " dropout_2 (Dropout)         (None, 50)                0         \n",
      "                                                                 \n",
      " dense (Dense)               (None, 1)                 51        \n",
      "                                                                 \n",
      "=================================================================\n",
      "Total params: 50851 (198.64 KB)\n",
      "Trainable params: 50851 (198.64 KB)\n",
      "Non-trainable params: 0 (0.00 Byte)\n",
      "_________________________________________________________________\n"
     ]
    }
   ],
   "source": [
    "model.summary()"
   ]
  },
  {
   "cell_type": "markdown",
   "id": "dc4ea5e8",
   "metadata": {},
   "source": [
    "### Compile the model"
   ]
  },
  {
   "cell_type": "markdown",
   "id": "529c0446",
   "metadata": {},
   "source": [
    "We compile the model with the help of adam optimizer. The error is computed using mean_squared_error."
   ]
  },
  {
   "cell_type": "code",
   "execution_count": 19,
   "id": "78a7b5bf",
   "metadata": {},
   "outputs": [],
   "source": [
    "model.compile(optimizer = 'adam', loss = 'mean_squared_error')"
   ]
  },
  {
   "cell_type": "markdown",
   "id": "cb1314f5",
   "metadata": {},
   "source": [
    "### Train the model"
   ]
  },
  {
   "cell_type": "markdown",
   "id": "c4f39ab5",
   "metadata": {},
   "source": [
    "Finally, the model is fit using 100 epochs with a batch size of 32."
   ]
  },
  {
   "cell_type": "code",
   "execution_count": 20,
   "id": "e84674aa",
   "metadata": {
    "scrolled": false
   },
   "outputs": [
    {
     "name": "stdout",
     "output_type": "stream",
     "text": [
      "Epoch 1/100\n",
      "54/54 [==============================] - 9s 40ms/step - loss: 0.0126\n",
      "Epoch 2/100\n",
      "54/54 [==============================] - 3s 51ms/step - loss: 0.0026\n",
      "Epoch 3/100\n",
      "54/54 [==============================] - 3s 54ms/step - loss: 0.0026\n",
      "Epoch 4/100\n",
      "54/54 [==============================] - 3s 54ms/step - loss: 0.0029\n",
      "Epoch 5/100\n",
      "54/54 [==============================] - 3s 54ms/step - loss: 0.0026\n",
      "Epoch 6/100\n",
      "54/54 [==============================] - 3s 54ms/step - loss: 0.0022\n",
      "Epoch 7/100\n",
      "54/54 [==============================] - 3s 54ms/step - loss: 0.0022\n",
      "Epoch 8/100\n",
      "54/54 [==============================] - 3s 54ms/step - loss: 0.0019\n",
      "Epoch 9/100\n",
      "54/54 [==============================] - 3s 53ms/step - loss: 0.0018\n",
      "Epoch 10/100\n",
      "54/54 [==============================] - 3s 54ms/step - loss: 0.0020\n",
      "Epoch 11/100\n",
      "54/54 [==============================] - 3s 54ms/step - loss: 0.0021\n",
      "Epoch 12/100\n",
      "54/54 [==============================] - 3s 54ms/step - loss: 0.0018\n",
      "Epoch 13/100\n",
      "54/54 [==============================] - 3s 54ms/step - loss: 0.0017\n",
      "Epoch 14/100\n",
      "54/54 [==============================] - 3s 57ms/step - loss: 0.0017\n",
      "Epoch 15/100\n",
      "54/54 [==============================] - 3s 54ms/step - loss: 0.0015\n",
      "Epoch 16/100\n",
      "54/54 [==============================] - 3s 55ms/step - loss: 0.0015\n",
      "Epoch 17/100\n",
      "54/54 [==============================] - 3s 54ms/step - loss: 0.0016\n",
      "Epoch 18/100\n",
      "54/54 [==============================] - 3s 54ms/step - loss: 0.0016\n",
      "Epoch 19/100\n",
      "54/54 [==============================] - 3s 54ms/step - loss: 0.0014\n",
      "Epoch 20/100\n",
      "54/54 [==============================] - 3s 54ms/step - loss: 0.0014\n",
      "Epoch 21/100\n",
      "54/54 [==============================] - 3s 54ms/step - loss: 0.0014\n",
      "Epoch 22/100\n",
      "54/54 [==============================] - 3s 54ms/step - loss: 0.0014\n",
      "Epoch 23/100\n",
      "54/54 [==============================] - 3s 54ms/step - loss: 0.0016\n",
      "Epoch 24/100\n",
      "54/54 [==============================] - 3s 54ms/step - loss: 0.0014\n",
      "Epoch 25/100\n",
      "54/54 [==============================] - 3s 54ms/step - loss: 0.0013\n",
      "Epoch 26/100\n",
      "54/54 [==============================] - 3s 54ms/step - loss: 0.0014\n",
      "Epoch 27/100\n",
      "54/54 [==============================] - 3s 54ms/step - loss: 0.0014\n",
      "Epoch 28/100\n",
      "54/54 [==============================] - 3s 55ms/step - loss: 0.0017\n",
      "Epoch 29/100\n",
      "54/54 [==============================] - 3s 54ms/step - loss: 0.0012\n",
      "Epoch 30/100\n",
      "54/54 [==============================] - 3s 54ms/step - loss: 0.0011\n",
      "Epoch 31/100\n",
      "54/54 [==============================] - 3s 54ms/step - loss: 0.0012\n",
      "Epoch 32/100\n",
      "54/54 [==============================] - 3s 54ms/step - loss: 0.0011\n",
      "Epoch 33/100\n",
      "54/54 [==============================] - 3s 54ms/step - loss: 0.0010\n",
      "Epoch 34/100\n",
      "54/54 [==============================] - 3s 53ms/step - loss: 0.0010\n",
      "Epoch 35/100\n",
      "54/54 [==============================] - 3s 54ms/step - loss: 0.0011\n",
      "Epoch 36/100\n",
      "54/54 [==============================] - 3s 54ms/step - loss: 0.0011\n",
      "Epoch 37/100\n",
      "54/54 [==============================] - 3s 54ms/step - loss: 9.9094e-04\n",
      "Epoch 38/100\n",
      "54/54 [==============================] - 3s 54ms/step - loss: 0.0011\n",
      "Epoch 39/100\n",
      "54/54 [==============================] - 3s 53ms/step - loss: 9.6609e-04\n",
      "Epoch 40/100\n",
      "54/54 [==============================] - 3s 53ms/step - loss: 9.6697e-04\n",
      "Epoch 41/100\n",
      "54/54 [==============================] - 3s 54ms/step - loss: 0.0011\n",
      "Epoch 42/100\n",
      "54/54 [==============================] - 3s 53ms/step - loss: 9.3360e-04\n",
      "Epoch 43/100\n",
      "54/54 [==============================] - 3s 54ms/step - loss: 9.6400e-04\n",
      "Epoch 44/100\n",
      "54/54 [==============================] - 3s 54ms/step - loss: 9.5203e-04\n",
      "Epoch 45/100\n",
      "54/54 [==============================] - 3s 54ms/step - loss: 9.3651e-04\n",
      "Epoch 46/100\n",
      "54/54 [==============================] - 3s 54ms/step - loss: 8.4473e-04\n",
      "Epoch 47/100\n",
      "54/54 [==============================] - 3s 54ms/step - loss: 0.0011\n",
      "Epoch 48/100\n",
      "54/54 [==============================] - 3s 54ms/step - loss: 9.0240e-04\n",
      "Epoch 49/100\n",
      "54/54 [==============================] - 3s 53ms/step - loss: 9.4838e-04\n",
      "Epoch 50/100\n",
      "54/54 [==============================] - 3s 54ms/step - loss: 0.0010\n",
      "Epoch 51/100\n",
      "54/54 [==============================] - 3s 54ms/step - loss: 0.0010\n",
      "Epoch 52/100\n",
      "54/54 [==============================] - 3s 53ms/step - loss: 8.6813e-04\n",
      "Epoch 53/100\n",
      "54/54 [==============================] - 3s 54ms/step - loss: 8.4992e-04\n",
      "Epoch 54/100\n",
      "54/54 [==============================] - 3s 53ms/step - loss: 7.8809e-04\n",
      "Epoch 55/100\n",
      "54/54 [==============================] - 3s 54ms/step - loss: 8.5704e-04\n",
      "Epoch 56/100\n",
      "54/54 [==============================] - 3s 53ms/step - loss: 0.0011\n",
      "Epoch 57/100\n",
      "54/54 [==============================] - 3s 53ms/step - loss: 7.5328e-04\n",
      "Epoch 58/100\n",
      "54/54 [==============================] - 3s 54ms/step - loss: 8.5633e-04\n",
      "Epoch 59/100\n",
      "54/54 [==============================] - 3s 53ms/step - loss: 8.1382e-04\n",
      "Epoch 60/100\n",
      "54/54 [==============================] - 3s 54ms/step - loss: 7.4325e-04\n",
      "Epoch 61/100\n",
      "54/54 [==============================] - 3s 53ms/step - loss: 7.5850e-04\n",
      "Epoch 62/100\n",
      "54/54 [==============================] - 3s 55ms/step - loss: 7.8751e-04\n",
      "Epoch 63/100\n",
      "54/54 [==============================] - 3s 58ms/step - loss: 6.8233e-04\n",
      "Epoch 64/100\n",
      "54/54 [==============================] - 3s 58ms/step - loss: 7.1208e-04\n",
      "Epoch 65/100\n",
      "54/54 [==============================] - 3s 55ms/step - loss: 7.3081e-04\n",
      "Epoch 66/100\n",
      "54/54 [==============================] - 3s 54ms/step - loss: 7.1900e-04\n",
      "Epoch 67/100\n",
      "54/54 [==============================] - 3s 54ms/step - loss: 8.3035e-04\n",
      "Epoch 68/100\n",
      "54/54 [==============================] - 3s 54ms/step - loss: 8.9488e-04\n",
      "Epoch 69/100\n",
      "54/54 [==============================] - 3s 53ms/step - loss: 7.4635e-04\n",
      "Epoch 70/100\n",
      "54/54 [==============================] - 3s 54ms/step - loss: 9.1704e-04\n",
      "Epoch 71/100\n",
      "54/54 [==============================] - 3s 53ms/step - loss: 7.0735e-04\n",
      "Epoch 72/100\n",
      "54/54 [==============================] - 3s 54ms/step - loss: 8.7843e-04\n",
      "Epoch 73/100\n",
      "54/54 [==============================] - 3s 54ms/step - loss: 7.9034e-04\n",
      "Epoch 74/100\n",
      "54/54 [==============================] - 3s 54ms/step - loss: 6.8831e-04\n",
      "Epoch 75/100\n",
      "54/54 [==============================] - 3s 54ms/step - loss: 7.2596e-04\n",
      "Epoch 76/100\n",
      "54/54 [==============================] - 3s 54ms/step - loss: 7.2422e-04\n",
      "Epoch 77/100\n",
      "54/54 [==============================] - 3s 54ms/step - loss: 7.2098e-04\n",
      "Epoch 78/100\n",
      "54/54 [==============================] - 3s 55ms/step - loss: 7.6527e-04\n",
      "Epoch 79/100\n",
      "54/54 [==============================] - 3s 53ms/step - loss: 6.2275e-04\n",
      "Epoch 80/100\n",
      "54/54 [==============================] - 3s 54ms/step - loss: 7.3095e-04\n",
      "Epoch 81/100\n",
      "54/54 [==============================] - 3s 54ms/step - loss: 6.4374e-04\n",
      "Epoch 82/100\n",
      "54/54 [==============================] - 3s 53ms/step - loss: 6.2282e-04\n",
      "Epoch 83/100\n",
      "54/54 [==============================] - 3s 54ms/step - loss: 6.8940e-04\n",
      "Epoch 84/100\n",
      "54/54 [==============================] - 3s 54ms/step - loss: 7.7879e-04\n",
      "Epoch 85/100\n",
      "54/54 [==============================] - 3s 54ms/step - loss: 7.9492e-04\n",
      "Epoch 86/100\n",
      "54/54 [==============================] - 3s 53ms/step - loss: 7.0484e-04\n",
      "Epoch 87/100\n",
      "54/54 [==============================] - 3s 54ms/step - loss: 6.4255e-04\n",
      "Epoch 88/100\n",
      "54/54 [==============================] - 3s 54ms/step - loss: 6.2787e-04\n",
      "Epoch 89/100\n",
      "54/54 [==============================] - 3s 54ms/step - loss: 6.7800e-04\n",
      "Epoch 90/100\n",
      "54/54 [==============================] - 3s 54ms/step - loss: 6.3962e-04\n",
      "Epoch 91/100\n",
      "54/54 [==============================] - 3s 53ms/step - loss: 7.0433e-04\n",
      "Epoch 92/100\n",
      "54/54 [==============================] - 3s 54ms/step - loss: 6.7661e-04\n",
      "Epoch 93/100\n",
      "54/54 [==============================] - 3s 54ms/step - loss: 7.4519e-04\n",
      "Epoch 94/100\n",
      "54/54 [==============================] - 3s 54ms/step - loss: 6.9546e-04\n",
      "Epoch 95/100\n",
      "54/54 [==============================] - 3s 54ms/step - loss: 6.8483e-04\n",
      "Epoch 96/100\n",
      "54/54 [==============================] - 3s 54ms/step - loss: 6.1132e-04\n",
      "Epoch 97/100\n",
      "54/54 [==============================] - 3s 54ms/step - loss: 5.8500e-04\n",
      "Epoch 98/100\n"
     ]
    },
    {
     "name": "stdout",
     "output_type": "stream",
     "text": [
      "54/54 [==============================] - 3s 53ms/step - loss: 6.6381e-04\n",
      "Epoch 99/100\n",
      "54/54 [==============================] - 3s 53ms/step - loss: 5.7491e-04\n",
      "Epoch 100/100\n",
      "54/54 [==============================] - 3s 54ms/step - loss: 8.8724e-04\n"
     ]
    },
    {
     "data": {
      "text/plain": [
       "<keras.src.callbacks.History at 0x1ab830ca190>"
      ]
     },
     "execution_count": 20,
     "metadata": {},
     "output_type": "execute_result"
    }
   ],
   "source": [
    "model.fit(X_train, y_train, epochs = 100, batch_size = 32)"
   ]
  },
  {
   "cell_type": "markdown",
   "id": "3a5dbcbf",
   "metadata": {},
   "source": [
    "## Predicting future stock using the Test Set"
   ]
  },
  {
   "cell_type": "code",
   "execution_count": 21,
   "id": "016d511a",
   "metadata": {},
   "outputs": [
    {
     "name": "stdout",
     "output_type": "stream",
     "text": [
      "9/9 [==============================] - 2s 22ms/step\n"
     ]
    }
   ],
   "source": [
    "predicted_stock_price = model.predict(X_test)"
   ]
  },
  {
   "cell_type": "code",
   "execution_count": 22,
   "id": "e6fa5d09",
   "metadata": {},
   "outputs": [],
   "source": [
    "predicted_stock_price = scaler.inverse_transform(predicted_stock_price)"
   ]
  },
  {
   "cell_type": "code",
   "execution_count": 23,
   "id": "17fe247d",
   "metadata": {},
   "outputs": [
    {
     "data": {
      "text/plain": [
       "(275, 1)"
      ]
     },
     "execution_count": 23,
     "metadata": {},
     "output_type": "execute_result"
    }
   ],
   "source": [
    "predicted_stock_price.shape"
   ]
  },
  {
   "cell_type": "code",
   "execution_count": 24,
   "id": "81146020",
   "metadata": {},
   "outputs": [],
   "source": [
    "y_test = y_test.reshape(275,1)"
   ]
  },
  {
   "cell_type": "code",
   "execution_count": 25,
   "id": "333abff8",
   "metadata": {},
   "outputs": [],
   "source": [
    "y_test = scaler.inverse_transform(y_test)"
   ]
  },
  {
   "cell_type": "markdown",
   "id": "c2e89661",
   "metadata": {},
   "source": [
    "### Plotting the results"
   ]
  },
  {
   "cell_type": "code",
   "execution_count": 26,
   "id": "92aeb912",
   "metadata": {},
   "outputs": [
    {
     "data": {
      "text/plain": [
       "<matplotlib.legend.Legend at 0x1ab8711b790>"
      ]
     },
     "execution_count": 26,
     "metadata": {},
     "output_type": "execute_result"
    },
    {
     "data": {
      "image/png": "[encoded data removed]",
      "text/plain": [
       "<Figure size 640x480 with 1 Axes>"
      ]
     },
     "metadata": {},
     "output_type": "display_data"
    }
   ],
   "source": [
    "plt.plot(y_test, color = 'green', label = 'Actual')\n",
    "plt.plot(predicted_stock_price, color = 'red', label = 'Predicted')\n",
    "plt.legend()"
   ]
  },
  {
   "cell_type": "markdown",
   "id": "5545c949",
   "metadata": {},
   "source": [
    "***"
   ]
  },
  {
   "cell_type": "markdown",
   "id": "29fff6e3",
   "metadata": {},
   "source": [
    "***"
   ]
  }
 ],
 "metadata": {
  "kernelspec": {
   "display_name": "Python 3 (ipykernel)",
   "language": "python",
   "name": "python3"
  },
  "language_info": {
   "codemirror_mode": {
    "name": "ipython",
    "version": 3
   },
   "file_extension": ".py",
   "mimetype": "text/x-python",
   "name": "python",
   "nbconvert_exporter": "python",
   "pygments_lexer": "ipython3",
   "version": "3.11.5"
  }
 },
 "nbformat": 4,
 "nbformat_minor": 5
}
